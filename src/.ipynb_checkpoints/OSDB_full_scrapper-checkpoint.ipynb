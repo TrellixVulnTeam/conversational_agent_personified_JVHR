{
 "cells": [
  {
   "cell_type": "markdown",
   "metadata": {},
   "source": [
    "## Import required libraries"
   ]
  },
  {
   "cell_type": "code",
   "execution_count": 76,
   "metadata": {
    "collapsed": false
   },
   "outputs": [],
   "source": [
    "import os\n",
    "from bs4 import BeautifulSoup\n",
    "import urllib2\n",
    "import requests, zipfile, StringIO\n",
    "from __future__ import division\n",
    "from __future__ import print_function\n",
    "import string"
   ]
  },
  {
   "cell_type": "markdown",
   "metadata": {},
   "source": [
    "## Gather urls for download link"
   ]
  },
  {
   "cell_type": "code",
   "execution_count": 84,
   "metadata": {
    "collapsed": false
   },
   "outputs": [
    {
     "name": "stdout",
     "output_type": "stream",
     "text": [
      "https://www.opensubtitles.org/en/search/sublanguageid-eng/moviename-a/sort-6/asc-0/offset-0\n",
      "https://www.opensubtitles.org/en/search/sublanguageid-eng/moviename-a/sort-6/asc-0/offset-40\n",
      "https://www.opensubtitles.org/en/search/sublanguageid-eng/moviename-a/sort-6/asc-0/offset-80\n",
      "https://www.opensubtitles.org/en/search/sublanguageid-eng/moviename-a/sort-6/asc-0/offset-120\n",
      "https://www.opensubtitles.org/en/search/sublanguageid-eng/moviename-a/sort-6/asc-0/offset-160\n",
      "https://www.opensubtitles.org/en/search/sublanguageid-eng/moviename-a/sort-6/asc-0/offset-200\n",
      "https://www.opensubtitles.org/en/search/sublanguageid-eng/moviename-a/sort-6/asc-0/offset-240\n",
      "https://www.opensubtitles.org/en/search/sublanguageid-eng/moviename-a/sort-6/asc-0/offset-280\n",
      "https://www.opensubtitles.org/en/search/sublanguageid-eng/moviename-a/sort-6/asc-0/offset-320\n",
      "https://www.opensubtitles.org/en/search/sublanguageid-eng/moviename-a/sort-6/asc-0/offset-360\n",
      "https://www.opensubtitles.org/en/search/sublanguageid-eng/moviename-a/sort-6/asc-0/offset-400\n",
      "https://www.opensubtitles.org/en/search/sublanguageid-eng/moviename-a/sort-6/asc-0/offset-440\n",
      "https://www.opensubtitles.org/en/search/sublanguageid-eng/moviename-a/sort-6/asc-0/offset-480\n",
      "https://www.opensubtitles.org/en/search/sublanguageid-eng/moviename-a/sort-6/asc-0/offset-520\n",
      "https://www.opensubtitles.org/en/search/sublanguageid-eng/moviename-a/sort-6/asc-0/offset-560\n",
      "https://www.opensubtitles.org/en/search/sublanguageid-eng/moviename-a/sort-6/asc-0/offset-600\n",
      "https://www.opensubtitles.org/en/search/sublanguageid-eng/moviename-a/sort-6/asc-0/offset-640\n",
      "https://www.opensubtitles.org/en/search/sublanguageid-eng/moviename-a/sort-6/asc-0/offset-680\n",
      "https://www.opensubtitles.org/en/search/sublanguageid-eng/moviename-a/sort-6/asc-0/offset-720\n",
      "https://www.opensubtitles.org/en/search/sublanguageid-eng/moviename-a/sort-6/asc-0/offset-760\n",
      "https://www.opensubtitles.org/en/search/sublanguageid-eng/moviename-a/sort-6/asc-0/offset-800\n",
      "https://www.opensubtitles.org/en/search/sublanguageid-eng/moviename-a/sort-6/asc-0/offset-840\n",
      "https://www.opensubtitles.org/en/search/sublanguageid-eng/moviename-a/sort-6/asc-0/offset-880\n",
      "https://www.opensubtitles.org/en/search/sublanguageid-eng/moviename-a/sort-6/asc-0/offset-920\n",
      "https://www.opensubtitles.org/en/search/sublanguageid-eng/moviename-a/sort-6/asc-0/offset-960\n",
      "https://www.opensubtitles.org/en/search/sublanguageid-eng/moviename-a/sort-6/asc-0/offset-1000\n",
      "0.0\n",
      "https://www.opensubtitles.org/en/search/sublanguageid-eng/moviename-a/sort-6/asc-0/offset-1040\n",
      "0.0\n",
      "https://www.opensubtitles.org/en/search/sublanguageid-eng/moviename-a/sort-6/asc-0/offset-1080\n",
      "0.0\n",
      "https://www.opensubtitles.org/en/search/sublanguageid-eng/moviename-a/sort-6/asc-0/offset-1120\n",
      "0.0\n",
      "https://www.opensubtitles.org/en/search/sublanguageid-eng/moviename-a/sort-6/asc-0/offset-1160\n",
      "0.0\n",
      "https://www.opensubtitles.org/en/search/sublanguageid-eng/moviename-a/sort-6/asc-0/offset-1200\n",
      "0.0\n",
      "https://www.opensubtitles.org/en/search/sublanguageid-eng/moviename-a/sort-6/asc-0/offset-1240\n",
      "0.0\n",
      "https://www.opensubtitles.org/en/search/sublanguageid-eng/moviename-a/sort-6/asc-0/offset-1280\n",
      "0.0\n",
      "https://www.opensubtitles.org/en/search/sublanguageid-eng/moviename-a/sort-6/asc-0/offset-1320\n",
      "0.0\n",
      "https://www.opensubtitles.org/en/search/sublanguageid-eng/moviename-a/sort-6/asc-0/offset-1360\n",
      "0.0\n",
      "https://www.opensubtitles.org/en/search/sublanguageid-eng/moviename-a/sort-6/asc-0/offset-1400\n",
      "0.0\n",
      "https://www.opensubtitles.org/en/search/sublanguageid-eng/moviename-a/sort-6/asc-0/offset-1440\n",
      "0.0\n",
      "https://www.opensubtitles.org/en/search/sublanguageid-eng/moviename-a/sort-6/asc-0/offset-1480\n",
      "0.0\n",
      "https://www.opensubtitles.org/en/search/sublanguageid-eng/moviename-a/sort-6/asc-0/offset-1520\n",
      "0.0\n",
      "https://www.opensubtitles.org/en/search/sublanguageid-eng/moviename-a/sort-6/asc-0/offset-1560\n",
      "0.0\n",
      "https://www.opensubtitles.org/en/search/sublanguageid-eng/moviename-a/sort-6/asc-0/offset-1600\n",
      "0.0\n",
      "https://www.opensubtitles.org/en/search/sublanguageid-eng/moviename-a/sort-6/asc-0/offset-1640\n",
      "0.0\n",
      "https://www.opensubtitles.org/en/search/sublanguageid-eng/moviename-a/sort-6/asc-0/offset-1680\n",
      "0.0\n",
      "https://www.opensubtitles.org/en/search/sublanguageid-eng/moviename-a/sort-6/asc-0/offset-1720\n",
      "0.0\n",
      "https://www.opensubtitles.org/en/search/sublanguageid-eng/moviename-a/sort-6/asc-0/offset-1760\n",
      "0.0\n",
      "https://www.opensubtitles.org/en/search/sublanguageid-eng/moviename-a/sort-6/asc-0/offset-1800\n",
      "0.0\n",
      "https://www.opensubtitles.org/en/search/sublanguageid-eng/moviename-a/sort-6/asc-0/offset-1840\n",
      "0.0\n",
      "https://www.opensubtitles.org/en/search/sublanguageid-eng/moviename-a/sort-6/asc-0/offset-1880\n",
      "0.0\n",
      "https://www.opensubtitles.org/en/search/sublanguageid-eng/moviename-a/sort-6/asc-0/offset-1920\n",
      "0.0\n",
      "https://www.opensubtitles.org/en/search/sublanguageid-eng/moviename-a/sort-6/asc-0/offset-1960\n",
      "0.0\n",
      "https://www.opensubtitles.org/en/search/sublanguageid-eng/moviename-a/sort-6/asc-0/offset-2000\n",
      "0.0\n",
      "https://www.opensubtitles.org/en/search/sublanguageid-eng/moviename-a/sort-6/asc-0/offset-2040\n",
      "0.0\n",
      "https://www.opensubtitles.org/en/search/sublanguageid-eng/moviename-a/sort-6/asc-0/offset-2080\n"
     ]
    },
    {
     "ename": "KeyboardInterrupt",
     "evalue": "",
     "output_type": "error",
     "traceback": [
      "\u001b[0;31m---------------------------------------------------------------------------\u001b[0m",
      "\u001b[0;31mKeyboardInterrupt\u001b[0m                         Traceback (most recent call last)",
      "\u001b[0;32m<ipython-input-84-f59bfc531e6b>\u001b[0m in \u001b[0;36m<module>\u001b[0;34m()\u001b[0m\n\u001b[1;32m     14\u001b[0m         \u001b[0mr\u001b[0m \u001b[0;34m=\u001b[0m \u001b[0murllib2\u001b[0m\u001b[0;34m.\u001b[0m\u001b[0murlopen\u001b[0m\u001b[0;34m(\u001b[0m\u001b[0msearch_url\u001b[0m\u001b[0;34m)\u001b[0m\u001b[0;34m.\u001b[0m\u001b[0mread\u001b[0m\u001b[0;34m(\u001b[0m\u001b[0;34m)\u001b[0m\u001b[0;34m\u001b[0m\u001b[0m\n\u001b[1;32m     15\u001b[0m         \u001b[0msoup\u001b[0m \u001b[0;34m=\u001b[0m \u001b[0mBeautifulSoup\u001b[0m\u001b[0;34m(\u001b[0m\u001b[0mr\u001b[0m\u001b[0;34m)\u001b[0m\u001b[0;34m\u001b[0m\u001b[0m\n\u001b[0;32m---> 16\u001b[0;31m         \u001b[0mmovies\u001b[0m \u001b[0;34m=\u001b[0m \u001b[0msoup\u001b[0m\u001b[0;34m.\u001b[0m\u001b[0mfind_all\u001b[0m\u001b[0;34m(\u001b[0m\u001b[0;34m\"a\"\u001b[0m\u001b[0;34m,\u001b[0m \u001b[0mclass_\u001b[0m\u001b[0;34m=\u001b[0m\u001b[0;34m\"bnone\"\u001b[0m\u001b[0;34m)\u001b[0m\u001b[0;34m\u001b[0m\u001b[0m\n\u001b[0m\u001b[1;32m     17\u001b[0m         \u001b[0;32mfor\u001b[0m \u001b[0mmovie\u001b[0m \u001b[0;32min\u001b[0m \u001b[0mmovies\u001b[0m\u001b[0;34m:\u001b[0m\u001b[0;34m\u001b[0m\u001b[0m\n\u001b[1;32m     18\u001b[0m             \u001b[0mmovie_name\u001b[0m \u001b[0;34m=\u001b[0m \u001b[0mmovie\u001b[0m\u001b[0;34m.\u001b[0m\u001b[0mget_text\u001b[0m\u001b[0;34m(\u001b[0m\u001b[0;34m)\u001b[0m\u001b[0;34m.\u001b[0m\u001b[0mreplace\u001b[0m\u001b[0;34m(\u001b[0m\u001b[0;34m\"\\n\"\u001b[0m\u001b[0;34m,\u001b[0m\u001b[0;34m\" \"\u001b[0m\u001b[0;34m)\u001b[0m\u001b[0;34m\u001b[0m\u001b[0m\n",
      "\u001b[0;32m/Users/ashutoshchoudhary/Anaconda/anaconda/lib/python2.7/site-packages/bs4/element.pyc\u001b[0m in \u001b[0;36mfind_all\u001b[0;34m(self, name, attrs, recursive, text, limit, **kwargs)\u001b[0m\n\u001b[1;32m   1297\u001b[0m         \u001b[0;32mif\u001b[0m \u001b[0;32mnot\u001b[0m \u001b[0mrecursive\u001b[0m\u001b[0;34m:\u001b[0m\u001b[0;34m\u001b[0m\u001b[0m\n\u001b[1;32m   1298\u001b[0m             \u001b[0mgenerator\u001b[0m \u001b[0;34m=\u001b[0m \u001b[0mself\u001b[0m\u001b[0;34m.\u001b[0m\u001b[0mchildren\u001b[0m\u001b[0;34m\u001b[0m\u001b[0m\n\u001b[0;32m-> 1299\u001b[0;31m         \u001b[0;32mreturn\u001b[0m \u001b[0mself\u001b[0m\u001b[0;34m.\u001b[0m\u001b[0m_find_all\u001b[0m\u001b[0;34m(\u001b[0m\u001b[0mname\u001b[0m\u001b[0;34m,\u001b[0m \u001b[0mattrs\u001b[0m\u001b[0;34m,\u001b[0m \u001b[0mtext\u001b[0m\u001b[0;34m,\u001b[0m \u001b[0mlimit\u001b[0m\u001b[0;34m,\u001b[0m \u001b[0mgenerator\u001b[0m\u001b[0;34m,\u001b[0m \u001b[0;34m**\u001b[0m\u001b[0mkwargs\u001b[0m\u001b[0;34m)\u001b[0m\u001b[0;34m\u001b[0m\u001b[0m\n\u001b[0m\u001b[1;32m   1300\u001b[0m     \u001b[0mfindAll\u001b[0m \u001b[0;34m=\u001b[0m \u001b[0mfind_all\u001b[0m       \u001b[0;31m# BS3\u001b[0m\u001b[0;34m\u001b[0m\u001b[0m\n\u001b[1;32m   1301\u001b[0m     \u001b[0mfindChildren\u001b[0m \u001b[0;34m=\u001b[0m \u001b[0mfind_all\u001b[0m  \u001b[0;31m# BS2\u001b[0m\u001b[0;34m\u001b[0m\u001b[0m\n",
      "\u001b[0;32m/Users/ashutoshchoudhary/Anaconda/anaconda/lib/python2.7/site-packages/bs4/element.pyc\u001b[0m in \u001b[0;36m_find_all\u001b[0;34m(self, name, attrs, text, limit, generator, **kwargs)\u001b[0m\n\u001b[1;32m    547\u001b[0m                 \u001b[0;32mbreak\u001b[0m\u001b[0;34m\u001b[0m\u001b[0m\n\u001b[1;32m    548\u001b[0m             \u001b[0;32mif\u001b[0m \u001b[0mi\u001b[0m\u001b[0;34m:\u001b[0m\u001b[0;34m\u001b[0m\u001b[0m\n\u001b[0;32m--> 549\u001b[0;31m                 \u001b[0mfound\u001b[0m \u001b[0;34m=\u001b[0m \u001b[0mstrainer\u001b[0m\u001b[0;34m.\u001b[0m\u001b[0msearch\u001b[0m\u001b[0;34m(\u001b[0m\u001b[0mi\u001b[0m\u001b[0;34m)\u001b[0m\u001b[0;34m\u001b[0m\u001b[0m\n\u001b[0m\u001b[1;32m    550\u001b[0m                 \u001b[0;32mif\u001b[0m \u001b[0mfound\u001b[0m\u001b[0;34m:\u001b[0m\u001b[0;34m\u001b[0m\u001b[0m\n\u001b[1;32m    551\u001b[0m                     \u001b[0mresults\u001b[0m\u001b[0;34m.\u001b[0m\u001b[0mappend\u001b[0m\u001b[0;34m(\u001b[0m\u001b[0mfound\u001b[0m\u001b[0;34m)\u001b[0m\u001b[0;34m\u001b[0m\u001b[0m\n",
      "\u001b[0;32m/Users/ashutoshchoudhary/Anaconda/anaconda/lib/python2.7/site-packages/bs4/element.pyc\u001b[0m in \u001b[0;36msearch\u001b[0;34m(self, markup)\u001b[0m\n\u001b[1;32m   1688\u001b[0m         \u001b[0;32melif\u001b[0m \u001b[0misinstance\u001b[0m\u001b[0;34m(\u001b[0m\u001b[0mmarkup\u001b[0m\u001b[0;34m,\u001b[0m \u001b[0mTag\u001b[0m\u001b[0;34m)\u001b[0m\u001b[0;34m:\u001b[0m\u001b[0;34m\u001b[0m\u001b[0m\n\u001b[1;32m   1689\u001b[0m             \u001b[0;32mif\u001b[0m \u001b[0;32mnot\u001b[0m \u001b[0mself\u001b[0m\u001b[0;34m.\u001b[0m\u001b[0mtext\u001b[0m \u001b[0;32mor\u001b[0m \u001b[0mself\u001b[0m\u001b[0;34m.\u001b[0m\u001b[0mname\u001b[0m \u001b[0;32mor\u001b[0m \u001b[0mself\u001b[0m\u001b[0;34m.\u001b[0m\u001b[0mattrs\u001b[0m\u001b[0;34m:\u001b[0m\u001b[0;34m\u001b[0m\u001b[0m\n\u001b[0;32m-> 1690\u001b[0;31m                 \u001b[0mfound\u001b[0m \u001b[0;34m=\u001b[0m \u001b[0mself\u001b[0m\u001b[0;34m.\u001b[0m\u001b[0msearch_tag\u001b[0m\u001b[0;34m(\u001b[0m\u001b[0mmarkup\u001b[0m\u001b[0;34m)\u001b[0m\u001b[0;34m\u001b[0m\u001b[0m\n\u001b[0m\u001b[1;32m   1691\u001b[0m         \u001b[0;31m# If it's text, make sure the text matches.\u001b[0m\u001b[0;34m\u001b[0m\u001b[0;34m\u001b[0m\u001b[0m\n\u001b[1;32m   1692\u001b[0m         \u001b[0;32melif\u001b[0m \u001b[0misinstance\u001b[0m\u001b[0;34m(\u001b[0m\u001b[0mmarkup\u001b[0m\u001b[0;34m,\u001b[0m \u001b[0mNavigableString\u001b[0m\u001b[0;34m)\u001b[0m \u001b[0;32mor\u001b[0m\u001b[0;31m \u001b[0m\u001b[0;31m\\\u001b[0m\u001b[0;34m\u001b[0m\u001b[0m\n",
      "\u001b[0;32m/Users/ashutoshchoudhary/Anaconda/anaconda/lib/python2.7/site-packages/bs4/element.pyc\u001b[0m in \u001b[0;36msearch_tag\u001b[0;34m(self, markup_name, markup_attrs)\u001b[0m\n\u001b[1;32m   1644\u001b[0m         if ((not self.name)\n\u001b[1;32m   1645\u001b[0m             \u001b[0;32mor\u001b[0m \u001b[0mcall_function_with_tag_data\u001b[0m\u001b[0;34m\u001b[0m\u001b[0m\n\u001b[0;32m-> 1646\u001b[0;31m             \u001b[0;32mor\u001b[0m \u001b[0;34m(\u001b[0m\u001b[0mmarkup\u001b[0m \u001b[0;32mand\u001b[0m \u001b[0mself\u001b[0m\u001b[0;34m.\u001b[0m\u001b[0m_matches\u001b[0m\u001b[0;34m(\u001b[0m\u001b[0mmarkup\u001b[0m\u001b[0;34m,\u001b[0m \u001b[0mself\u001b[0m\u001b[0;34m.\u001b[0m\u001b[0mname\u001b[0m\u001b[0;34m)\u001b[0m\u001b[0;34m)\u001b[0m\u001b[0;34m\u001b[0m\u001b[0m\n\u001b[0m\u001b[1;32m   1647\u001b[0m             or (not markup and self._matches(markup_name, self.name))):\n\u001b[1;32m   1648\u001b[0m             \u001b[0;32mif\u001b[0m \u001b[0mcall_function_with_tag_data\u001b[0m\u001b[0;34m:\u001b[0m\u001b[0;34m\u001b[0m\u001b[0m\n",
      "\u001b[0;32m/Users/ashutoshchoudhary/Anaconda/anaconda/lib/python2.7/site-packages/bs4/element.pyc\u001b[0m in \u001b[0;36m_matches\u001b[0;34m(self, markup, match_against)\u001b[0m\n\u001b[1;32m   1719\u001b[0m             \u001b[0;32mreturn\u001b[0m \u001b[0mmarkup\u001b[0m \u001b[0;32mis\u001b[0m \u001b[0;32mnot\u001b[0m \u001b[0mNone\u001b[0m\u001b[0;34m\u001b[0m\u001b[0m\n\u001b[1;32m   1720\u001b[0m \u001b[0;34m\u001b[0m\u001b[0m\n\u001b[0;32m-> 1721\u001b[0;31m         \u001b[0;32mif\u001b[0m \u001b[0misinstance\u001b[0m\u001b[0;34m(\u001b[0m\u001b[0mmatch_against\u001b[0m\u001b[0;34m,\u001b[0m \u001b[0mcollections\u001b[0m\u001b[0;34m.\u001b[0m\u001b[0mCallable\u001b[0m\u001b[0;34m)\u001b[0m\u001b[0;34m:\u001b[0m\u001b[0;34m\u001b[0m\u001b[0m\n\u001b[0m\u001b[1;32m   1722\u001b[0m             \u001b[0;32mreturn\u001b[0m \u001b[0mmatch_against\u001b[0m\u001b[0;34m(\u001b[0m\u001b[0mmarkup\u001b[0m\u001b[0;34m)\u001b[0m\u001b[0;34m\u001b[0m\u001b[0m\n\u001b[1;32m   1723\u001b[0m \u001b[0;34m\u001b[0m\u001b[0m\n",
      "\u001b[0;32m/Users/ashutoshchoudhary/Anaconda/anaconda/lib/python2.7/abc.pyc\u001b[0m in \u001b[0;36m__instancecheck__\u001b[0;34m(cls, instance)\u001b[0m\n\u001b[1;32m    130\u001b[0m         \u001b[0;31m# Inline the cache checking when it's simple.\u001b[0m\u001b[0;34m\u001b[0m\u001b[0;34m\u001b[0m\u001b[0m\n\u001b[1;32m    131\u001b[0m         \u001b[0msubclass\u001b[0m \u001b[0;34m=\u001b[0m \u001b[0mgetattr\u001b[0m\u001b[0;34m(\u001b[0m\u001b[0minstance\u001b[0m\u001b[0;34m,\u001b[0m \u001b[0;34m'__class__'\u001b[0m\u001b[0;34m,\u001b[0m \u001b[0mNone\u001b[0m\u001b[0;34m)\u001b[0m\u001b[0;34m\u001b[0m\u001b[0m\n\u001b[0;32m--> 132\u001b[0;31m         \u001b[0;32mif\u001b[0m \u001b[0msubclass\u001b[0m \u001b[0;32mis\u001b[0m \u001b[0;32mnot\u001b[0m \u001b[0mNone\u001b[0m \u001b[0;32mand\u001b[0m \u001b[0msubclass\u001b[0m \u001b[0;32min\u001b[0m \u001b[0mcls\u001b[0m\u001b[0;34m.\u001b[0m\u001b[0m_abc_cache\u001b[0m\u001b[0;34m:\u001b[0m\u001b[0;34m\u001b[0m\u001b[0m\n\u001b[0m\u001b[1;32m    133\u001b[0m             \u001b[0;32mreturn\u001b[0m \u001b[0mTrue\u001b[0m\u001b[0;34m\u001b[0m\u001b[0m\n\u001b[1;32m    134\u001b[0m         \u001b[0msubtype\u001b[0m \u001b[0;34m=\u001b[0m \u001b[0mtype\u001b[0m\u001b[0;34m(\u001b[0m\u001b[0minstance\u001b[0m\u001b[0;34m)\u001b[0m\u001b[0;34m\u001b[0m\u001b[0m\n",
      "\u001b[0;32m/Users/ashutoshchoudhary/Anaconda/anaconda/lib/python2.7/_weakrefset.pyc\u001b[0m in \u001b[0;36m__contains__\u001b[0;34m(self, item)\u001b[0m\n\u001b[1;32m     68\u001b[0m         \u001b[0;32mreturn\u001b[0m \u001b[0mlen\u001b[0m\u001b[0;34m(\u001b[0m\u001b[0mself\u001b[0m\u001b[0;34m.\u001b[0m\u001b[0mdata\u001b[0m\u001b[0;34m)\u001b[0m \u001b[0;34m-\u001b[0m \u001b[0mlen\u001b[0m\u001b[0;34m(\u001b[0m\u001b[0mself\u001b[0m\u001b[0;34m.\u001b[0m\u001b[0m_pending_removals\u001b[0m\u001b[0;34m)\u001b[0m\u001b[0;34m\u001b[0m\u001b[0m\n\u001b[1;32m     69\u001b[0m \u001b[0;34m\u001b[0m\u001b[0m\n\u001b[0;32m---> 70\u001b[0;31m     \u001b[0;32mdef\u001b[0m \u001b[0m__contains__\u001b[0m\u001b[0;34m(\u001b[0m\u001b[0mself\u001b[0m\u001b[0;34m,\u001b[0m \u001b[0mitem\u001b[0m\u001b[0;34m)\u001b[0m\u001b[0;34m:\u001b[0m\u001b[0;34m\u001b[0m\u001b[0m\n\u001b[0m\u001b[1;32m     71\u001b[0m         \u001b[0;32mtry\u001b[0m\u001b[0;34m:\u001b[0m\u001b[0;34m\u001b[0m\u001b[0m\n\u001b[1;32m     72\u001b[0m             \u001b[0mwr\u001b[0m \u001b[0;34m=\u001b[0m \u001b[0mref\u001b[0m\u001b[0;34m(\u001b[0m\u001b[0mitem\u001b[0m\u001b[0;34m)\u001b[0m\u001b[0;34m\u001b[0m\u001b[0m\n",
      "\u001b[0;31mKeyboardInterrupt\u001b[0m: "
     ]
    }
   ],
   "source": [
    "#all_start = string.ascii_lowercase+'0123456789'\n",
    "all_start = 'ab'\n",
    "offset = 0\n",
    "max_offset = 40000\n",
    "offset_stride = 40\n",
    "threshold = 0.025\n",
    "movie_dict = {}\n",
    "for movie_char_start in all_start:\n",
    "    for offset in xrange(0, max_offset, offset_stride):\n",
    "        loop_movie_count = 0\n",
    "        movie_added_count = 0\n",
    "        search_url = 'https://www.opensubtitles.org/en/search/sublanguageid-eng/moviename-{0}/sort-6/asc-0/offset-{1}'.format(movie_char_start, offset)\n",
    "        print(search_url)\n",
    "        r = urllib2.urlopen(search_url).read()\n",
    "        soup = BeautifulSoup(r)\n",
    "        movies = soup.find_all(\"a\", class_=\"bnone\")\n",
    "        for movie in movies:\n",
    "            movie_name = movie.get_text().replace(\"\\n\",\" \")\n",
    "            if movie_name in movie_dict:\n",
    "                loop_movie_count += 1\n",
    "            else:\n",
    "                movie_dict[movie_name] = movie[\"href\"].split(\"/\")[3]\n",
    "                movie_added_count += 1\n",
    "                loop_movie_count += 1\n",
    "        #print(movie_added_count/loop_movie_count)\n",
    "        # If all links are exhausted\n",
    "        if loop_movie_count == 0 and movie_added_count == 0:\n",
    "            break\n",
    "        # If movies are repeating in the entire page: May remove later to check if we can get more files\n",
    "        if movie_added_count/loop_movie_count < threshold:\n",
    "            break\n",
    "            #print(movie_added_count/loop_movie_count)\n",
    "    print(len(movie_dict))\n",
    "    print(movie_dict)"
   ]
  },
  {
   "cell_type": "code",
   "execution_count": 51,
   "metadata": {
    "collapsed": false
   },
   "outputs": [
    {
     "name": "stdout",
     "output_type": "stream",
     "text": [
      "<!DOCTYPE html PUBLIC \"-//W3C//DTD XHTML 1.0 Strict//EN\" \"http://www.w3.org/TR/xhtml1/DTD/xhtml1-strict.dtd\">\n",
      "<html lang=\"en\" xml:lang=\"en\" xmlns=\"http://www.w3.org/1999/xhtml\">\n",
      " <head>\n",
      "  <link href=\"//static.opensubtitles.org/libs/js/jquery/jquery-ui.min.css\" rel=\"stylesheet\" type=\"text/css\"/>\n",
      "  <script src=\"//static.opensubtitles.org/libs/js/jquery/jquery.min.js\" type=\"text/javascript\">\n",
      "  </script>\n",
      "  <script src=\"//static.opensubtitles.org/libs/js/jquery/jquery-ui.min.js\" type=\"text/javascript\">\n",
      "  </script>\n",
      "  <script src=\"//static.opensubtitles.org/libs/js/mobile-detect.min.js\" type=\"text/javascript\">\n",
      "  </script>\n",
      "  <script src=\"//static.opensubtitles.org/libs/js/jquery.timeago/jquery.timeago.js\" type=\"text/javascript\">\n",
      "  </script>\n",
      "  <script src=\"//static.opensubtitles.org/libs/js/lscache.min.js\" type=\"text/javascript\">\n",
      "  </script>\n",
      "  <script src=\"//static.opensubtitles.org/libs/js/jquery/jquery.ui.autocomplete.custom.js?1\" type=\"text/javascript\">\n",
      "  </script>\n",
      "  <script type=\"text/javas\n"
     ]
    }
   ],
   "source": []
  },
  {
   "cell_type": "code",
   "execution_count": 52,
   "metadata": {
    "collapsed": true
   },
   "outputs": [],
   "source": [
    "movies = soup.find_all(\"a\", class_=\"bnone\")"
   ]
  },
  {
   "cell_type": "code",
   "execution_count": 53,
   "metadata": {
    "collapsed": false
   },
   "outputs": [
    {
     "name": "stdout",
     "output_type": "stream",
     "text": [
      "<a class=\"bnone\" href=\"/en/subtitles/235608/aeon-flux-en\" onclick=\"reLink(event,'/en/subtitles/235608/aeon-flux-en');\" title=\"subtitles - AEon Flux\">AEon Flux\n",
      "(2005)</a>\n",
      "AEon Flux\n",
      "(2005)\n",
      "/en/subtitles/235608/aeon-flux-en\n",
      "235608\n"
     ]
    }
   ],
   "source": [
    "print(movies[30])\n",
    "print(movies[30].get_text())\n",
    "print(movies[30][\"href\"])\n",
    "print(movies[30][\"href\"].split(\"/\")[3])"
   ]
  },
  {
   "cell_type": "code",
   "execution_count": null,
   "metadata": {
    "collapsed": true
   },
   "outputs": [],
   "source": []
  },
  {
   "cell_type": "code",
   "execution_count": 49,
   "metadata": {
    "collapsed": false
   },
   "outputs": [],
   "source": [
    "zip_file_url = 'https://www.opensubtitles.org/en/download/vrf-108d030f/sub/235608'#'https://www.opensubtitles.org/en/subtitleserve/sub/3175400'\n",
    "r = requests.get(zip_file_url, stream=True, allow_redirects=True)\n",
    "z = zipfile.ZipFile(StringIO.StringIO(r.content))\n",
    "z.extractall()"
   ]
  },
  {
   "cell_type": "code",
   "execution_count": null,
   "metadata": {
    "collapsed": true
   },
   "outputs": [],
   "source": []
  },
  {
   "cell_type": "code",
   "execution_count": null,
   "metadata": {
    "collapsed": true
   },
   "outputs": [],
   "source": []
  },
  {
   "cell_type": "code",
   "execution_count": null,
   "metadata": {
    "collapsed": true
   },
   "outputs": [],
   "source": []
  }
 ],
 "metadata": {
  "anaconda-cloud": {},
  "kernelspec": {
   "display_name": "Python [default]",
   "language": "python",
   "name": "python2"
  },
  "language_info": {
   "codemirror_mode": {
    "name": "ipython",
    "version": 2
   },
   "file_extension": ".py",
   "mimetype": "text/x-python",
   "name": "python",
   "nbconvert_exporter": "python",
   "pygments_lexer": "ipython2",
   "version": "2.7.12"
  }
 },
 "nbformat": 4,
 "nbformat_minor": 1
}
