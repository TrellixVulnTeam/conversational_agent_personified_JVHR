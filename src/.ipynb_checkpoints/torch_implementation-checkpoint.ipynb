{
 "cells": [
  {
   "cell_type": "code",
   "execution_count": 1,
   "metadata": {
    "collapsed": false
   },
   "outputs": [],
   "source": [
    "%load_ext autoreload\n",
    "%autoreload 2\n",
    "\n",
    "from nn import EncoderRNN, DecoderRNN, Seq2Seq\n",
    "import utils\n",
    "import cPickle as pickle\n",
    "import torch\n",
    "from tqdm import tqdm\n",
    "import random\n",
    "# import tensorflow as tf"
   ]
  },
  {
   "cell_type": "code",
   "execution_count": 2,
   "metadata": {
    "collapsed": false
   },
   "outputs": [
    {
     "name": "stdout",
     "output_type": "stream",
     "text": [
      "Reading lines...\n",
      "Done\n"
     ]
    }
   ],
   "source": [
    "# lang, pairs = utils.prepare_data('../data/cmd/dialogs.txt')\n",
    "lang, pairs = utils.prepare_data('../res/friends.txt', persona=True)\n",
    "# lang, pairs = pickle.load(open('data.pkl'))"
   ]
  },
  {
   "cell_type": "code",
   "execution_count": 3,
   "metadata": {
    "collapsed": false
   },
   "outputs": [],
   "source": [
    "pickle.dump((lang, pairs), open('data.pkl', 'wb'))"
   ]
  },
  {
   "cell_type": "markdown",
   "metadata": {},
   "source": [
    "# Testing if everything works"
   ]
  },
  {
   "cell_type": "code",
   "execution_count": 3,
   "metadata": {
    "collapsed": false
   },
   "outputs": [],
   "source": [
    "hidden_size = 10\n",
    "enc_size = hidden_size\n",
    "dec_size = hidden_size\n",
    "learning_rate = 0.01\n",
    "emb_dims = 5\n",
    "max_length = 10\n",
    "lang.max_length = max_length\n",
    "seq2seq = Seq2Seq(lang, enc_size, dec_size, emb_dims, max_length, learning_rate, \n",
    "                  persona_size=20, attention=True, persona=True)"
   ]
  },
  {
   "cell_type": "code",
   "execution_count": 8,
   "metadata": {
    "collapsed": false
   },
   "outputs": [
    {
     "name": "stderr",
     "output_type": "stream",
     "text": [
      "100%|██████████| 500/500 [00:07<00:00, 66.54it/s]\n"
     ]
    }
   ],
   "source": [
    "from tqdm import tqdm\n",
    "test_pair = [('Joey:how are you', 'Chandler:pretty good'), ('Chandler:what are you doing', 'Joey:nothing')]\n",
    "for i in tqdm(xrange(500)):\n",
    "    _, loss = seq2seq.forward(random.choice(test_pair))"
   ]
  },
  {
   "cell_type": "code",
   "execution_count": 12,
   "metadata": {
    "collapsed": false
   },
   "outputs": [
    {
     "name": "stdout",
     "output_type": "stream",
     "text": [
      "Variable containing:\n",
      "  31\n",
      " 205\n",
      "  13\n",
      "   1\n",
      "[torch.cuda.LongTensor of size 4x1 (GPU 0)]\n",
      "\n",
      "pretty good\n"
     ]
    }
   ],
   "source": [
    "output, _ = seq2seq.forward(('Joey:how are you', 'Ross: '), False)\n",
    "print output"
   ]
  },
  {
   "cell_type": "code",
   "execution_count": 7,
   "metadata": {
    "collapsed": false
   },
   "outputs": [
    {
     "name": "stdout",
     "output_type": "stream",
     "text": [
      "weeks job do getting wonderful honest EOS\n"
     ]
    }
   ],
   "source": [
    "lst = [34, 128, 12, 35, 672, 2333, 1]\n",
    "for i in lst:\n",
    "    print seq2seq.lang.index2word[i],\n",
    "print"
   ]
  },
  {
   "cell_type": "markdown",
   "metadata": {},
   "source": [
    "# Training the model"
   ]
  },
  {
   "cell_type": "code",
   "execution_count": null,
   "metadata": {
    "collapsed": false
   },
   "outputs": [],
   "source": [
    "hidden_size = 512\n",
    "enc_size = hidden_size\n",
    "dec_size = hidden_size\n",
    "learning_rate = 1e-5\n",
    "emb_dims = 200\n",
    "max_length = 30\n",
    "lang.max_length = max_length\n",
    "seq2seq = Seq2Seq(lang, enc_size, dec_size, emb_dims, max_length, learning_rate, reload_model=False,\n",
    "                 attention=True, )"
   ]
  },
  {
   "cell_type": "code",
   "execution_count": null,
   "metadata": {
    "collapsed": false,
    "scrolled": true
   },
   "outputs": [],
   "source": [
    "import random\n",
    "\n",
    "for i in tqdm(xrange(1000)):\n",
    "    # Choose a random pair and train with that\n",
    "    r_pair = random.choice(pairs)\n",
    "    out, loss = seq2seq.forward(r_pair)\n",
    "    del loss\n",
    "    del out"
   ]
  },
  {
   "cell_type": "code",
   "execution_count": null,
   "metadata": {
    "collapsed": true
   },
   "outputs": [],
   "source": [
    "torch.save(seq2seq.encoder, '../models/encoder.pth')\n",
    "torch.save(seq2seq.decoder, '../models/decoder.pth')"
   ]
  },
  {
   "cell_type": "code",
   "execution_count": null,
   "metadata": {
    "collapsed": false
   },
   "outputs": [],
   "source": [
    "output, _ = seq2seq.forward(('who are you', ''), False)"
   ]
  },
  {
   "cell_type": "code",
   "execution_count": null,
   "metadata": {
    "collapsed": false
   },
   "outputs": [],
   "source": [
    "output"
   ]
  },
  {
   "cell_type": "code",
   "execution_count": null,
   "metadata": {
    "collapsed": true
   },
   "outputs": [],
   "source": []
  }
 ],
 "metadata": {
  "kernelspec": {
   "display_name": "Python 2",
   "language": "python",
   "name": "python2"
  },
  "language_info": {
   "codemirror_mode": {
    "name": "ipython",
    "version": 2
   },
   "file_extension": ".py",
   "mimetype": "text/x-python",
   "name": "python",
   "nbconvert_exporter": "python",
   "pygments_lexer": "ipython2",
   "version": "2.7.12"
  }
 },
 "nbformat": 4,
 "nbformat_minor": 1
}
