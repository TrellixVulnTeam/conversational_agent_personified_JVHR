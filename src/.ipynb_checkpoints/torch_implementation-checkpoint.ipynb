{
 "cells": [
  {
   "cell_type": "code",
   "execution_count": 1,
   "metadata": {
    "collapsed": false
   },
   "outputs": [],
   "source": [
    "%load_ext autoreload\n",
    "%autoreload 2\n",
    "\n",
    "from nn import EncoderRNN, DecoderRNN, Seq2Seq\n",
    "import utils\n",
    "import cPickle as pickle\n",
    "import torch\n",
    "from tqdm import tqdm\n",
    "import random\n",
    "# import tensorflow as tf"
   ]
  },
  {
   "cell_type": "code",
   "execution_count": 2,
   "metadata": {
    "collapsed": false
   },
   "outputs": [],
   "source": [
    "# lang, pairs = utils.prepare_data('../data/cmd/dialogs.txt')\n",
    "# lang, pairs = utils.prepare_data('../res/friends.txt', persona=False)\n",
    "lang, pairs = pickle.load(open('data.pkl'))"
   ]
  },
  {
   "cell_type": "code",
   "execution_count": 3,
   "metadata": {
    "collapsed": false
   },
   "outputs": [],
   "source": [
    "pickle.dump((lang, pairs), open('data.pkl', 'wb'))"
   ]
  },
  {
   "cell_type": "markdown",
   "metadata": {},
   "source": [
    "# Testing if everything works"
   ]
  },
  {
   "cell_type": "code",
   "execution_count": 39,
   "metadata": {
    "collapsed": false
   },
   "outputs": [],
   "source": [
    "hidden_size = 10\n",
    "enc_size = hidden_size\n",
    "dec_size = hidden_size\n",
    "learning_rate = 0.01\n",
    "emb_dims = 5\n",
    "max_length = 11\n",
    "lang.max_length = max_length\n",
    "seq2seq = Seq2Seq(lang, enc_size, dec_size, emb_dims, max_length, learning_rate, \n",
    "                  persona_size=20, attention=True, persona=False)"
   ]
  },
  {
   "cell_type": "code",
   "execution_count": null,
   "metadata": {
    "collapsed": false
   },
   "outputs": [
    {
     "name": "stderr",
     "output_type": "stream",
     "text": [
      "  5%|▍         | 77/1600 [00:03<01:03, 23.88it/s]"
     ]
    }
   ],
   "source": [
    "from tqdm import tqdm\n",
    "# test_pair = [('Joey:how are you', 'Chandler:pretty good'), ('Chandler:what are you doing', 'Joey:nothing')]\n",
    "test_pair = [('how are you', 'pretty good'),\n",
    "             ('write some shit with shit seven eight nine ten as a dog', 'you talked a lot')]\n",
    "for i in tqdm(xrange(1600)):\n",
    "    _, loss = seq2seq.forward(test_pair)"
   ]
  },
  {
   "cell_type": "code",
   "execution_count": 38,
   "metadata": {
    "collapsed": false
   },
   "outputs": [
    {
     "name": "stdout",
     "output_type": "stream",
     "text": [
      "['pretty good', 'pretty good']\n"
     ]
    }
   ],
   "source": [
    "output, _ = seq2seq.forward([('how are you', ''), ('what are you', '')], False)\n",
    "print output"
   ]
  },
  {
   "cell_type": "code",
   "execution_count": 9,
   "metadata": {
    "collapsed": false
   },
   "outputs": [
    {
     "name": "stdout",
     "output_type": "stream",
     "text": [
      "thats for andrew okay buttholus conceivable SOS\n"
     ]
    }
   ],
   "source": [
    "lst = [34, 128, 12, 35, 672, 2333, 1]\n",
    "for i in lst:\n",
    "    print seq2seq.lang.index2word[i],\n",
    "print"
   ]
  },
  {
   "cell_type": "code",
   "execution_count": 21,
   "metadata": {
    "collapsed": false
   },
   "outputs": [
    {
     "name": "stdout",
     "output_type": "stream",
     "text": [
      "[['weight_ih_l0', 'weight_hh_l0', 'bias_ih_l0', 'bias_hh_l0']]\n"
     ]
    }
   ],
   "source": [
    "seq2seq.encoder.rnn.set_weights({'all_weights':d_weights})"
   ]
  },
  {
   "cell_type": "markdown",
   "metadata": {},
   "source": [
    "# Training the model"
   ]
  },
  {
   "cell_type": "code",
   "execution_count": null,
   "metadata": {
    "collapsed": false
   },
   "outputs": [],
   "source": [
    "hidden_size = 512\n",
    "enc_size = hidden_size\n",
    "dec_size = hidden_size\n",
    "learning_rate = 1e-5\n",
    "emb_dims = 200\n",
    "max_length = 30\n",
    "lang.max_length = max_length\n",
    "seq2seq = Seq2Seq(lang, enc_size, dec_size, emb_dims, max_length, learning_rate, reload_model=False,\n",
    "                 attention=True, )"
   ]
  },
  {
   "cell_type": "code",
   "execution_count": null,
   "metadata": {
    "collapsed": false,
    "scrolled": true
   },
   "outputs": [],
   "source": [
    "import random\n",
    "\n",
    "for i in tqdm(xrange(1000)):\n",
    "    # Choose a random pair and train with that\n",
    "#     for i in xrange(batch_size)\n",
    "        r_pair = random.choice(pairs)\n",
    "#         batch_pair.ap\n",
    "    out, loss = seq2seq.forward(r_pair)\n",
    "    del loss\n",
    "    del out"
   ]
  },
  {
   "cell_type": "code",
   "execution_count": null,
   "metadata": {
    "collapsed": true
   },
   "outputs": [],
   "source": [
    "torch.save(seq2seq.encoder, '../models/encoder.pth')\n",
    "torch.save(seq2seq.decoder, '../models/decoder.pth')"
   ]
  },
  {
   "cell_type": "code",
   "execution_count": null,
   "metadata": {
    "collapsed": false
   },
   "outputs": [],
   "source": [
    "output, _ = seq2seq.forward(('who are you', ''), False)"
   ]
  },
  {
   "cell_type": "code",
   "execution_count": null,
   "metadata": {
    "collapsed": false
   },
   "outputs": [],
   "source": [
    "output"
   ]
  },
  {
   "cell_type": "code",
   "execution_count": null,
   "metadata": {
    "collapsed": true
   },
   "outputs": [],
   "source": []
  }
 ],
 "metadata": {
  "kernelspec": {
   "display_name": "Python 2",
   "language": "python",
   "name": "python2"
  },
  "language_info": {
   "codemirror_mode": {
    "name": "ipython",
    "version": 2
   },
   "file_extension": ".py",
   "mimetype": "text/x-python",
   "name": "python",
   "nbconvert_exporter": "python",
   "pygments_lexer": "ipython2",
   "version": "2.7.12"
  }
 },
 "nbformat": 4,
 "nbformat_minor": 1
}
