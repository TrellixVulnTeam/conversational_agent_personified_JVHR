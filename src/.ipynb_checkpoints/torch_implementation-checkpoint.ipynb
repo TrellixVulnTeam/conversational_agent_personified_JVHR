{
 "cells": [
  {
   "cell_type": "code",
   "execution_count": 1,
   "metadata": {
    "collapsed": false
   },
   "outputs": [],
   "source": [
    "%load_ext autoreload\n",
    "%autoreload 2\n",
    "\n",
    "from nn import EncoderRNN, DecoderRNN, Seq2Seq\n",
    "import utils\n",
    "import cPickle as pickle\n",
    "import torch\n",
    "from tqdm import tqdm\n",
    "# import tensorflow as tf"
   ]
  },
  {
   "cell_type": "code",
   "execution_count": 2,
   "metadata": {
    "collapsed": false
   },
   "outputs": [],
   "source": [
    "#lang, pairs = utils.prepare_data('../res/all_dialogs.txt')\n",
    "lang, pairs = pickle.load(open('data.pkl'))"
   ]
  },
  {
   "cell_type": "code",
   "execution_count": null,
   "metadata": {
    "collapsed": false
   },
   "outputs": [],
   "source": [
    "\n",
    "# pickle.dump((lang, pairs), open('data.pkl', 'wb'))"
   ]
  },
  {
   "cell_type": "markdown",
   "metadata": {},
   "source": [
    "# Testing if everything works"
   ]
  },
  {
   "cell_type": "code",
   "execution_count": 3,
   "metadata": {
    "collapsed": false
   },
   "outputs": [],
   "source": [
    "hidden_size = 10\n",
    "enc_size = hidden_size\n",
    "dec_size = hidden_size\n",
    "learning_rate = 0.01\n",
    "emb_dims = 5\n",
    "max_length = 10\n",
    "lang.max_length = max_length\n",
    "seq2seq = Seq2Seq(lang, enc_size, dec_size, emb_dims, max_length, learning_rate)"
   ]
  },
  {
   "cell_type": "code",
   "execution_count": 4,
   "metadata": {
    "collapsed": false
   },
   "outputs": [
    {
     "name": "stderr",
     "output_type": "stream",
     "text": [
      "100%|██████████| 500/500 [00:08<00:00, 61.77it/s]"
     ]
    },
    {
     "name": "stdout",
     "output_type": "stream",
     "text": [
      "pretty good\n"
     ]
    },
    {
     "name": "stderr",
     "output_type": "stream",
     "text": [
      "\n"
     ]
    }
   ],
   "source": [
    "from tqdm import tqdm\n",
    "test_pair = ('how are you', 'pretty good')\n",
    "for i in tqdm(xrange(500)):\n",
    "    _, loss = seq2seq.forward(test_pair)\n",
    "output, _ = seq2seq.forward(('how are you', ''), False)\n",
    "print output"
   ]
  },
  {
   "cell_type": "markdown",
   "metadata": {},
   "source": [
    "# Training the model"
   ]
  },
  {
   "cell_type": "code",
   "execution_count": 3,
   "metadata": {
    "collapsed": true
   },
   "outputs": [],
   "source": [
    "hidden_size = 256\n",
    "enc_size = hidden_size\n",
    "dec_size = hidden_size\n",
    "learning_rate = 0.01\n",
    "emb_dims = 100\n",
    "max_length = 20\n",
    "lang.max_length = max_length\n",
    "seq2seq = Seq2Seq(lang, enc_size, dec_size, emb_dims, max_length, learning_rate, reload_model=True)"
   ]
  },
  {
   "cell_type": "code",
   "execution_count": 4,
   "metadata": {
    "collapsed": false
   },
   "outputs": [
    {
     "name": "stderr",
     "output_type": "stream",
     "text": [
      "100%|██████████| 10000/10000 [45:44<00:00,  3.33it/s]\n"
     ]
    }
   ],
   "source": [
    "import random\n",
    "# losses = []\n",
    "# Use tensorboard for plotting the loss\n",
    "# writer = tf.summary.FileWriter('logs/', graph=tf.get_default_graph())\n",
    "# with tf.Session() as sess:\n",
    "#     with tf.device(\"/cpu:0\"):\n",
    "for i in tqdm(xrange(10000)):\n",
    "    # Choose a random pair and train with that\n",
    "    r_pair = random.choice(pairs)\n",
    "    out, loss = seq2seq.forward(r_pair)\n",
    "#             summary = sess.run(seq2seq.summary)\n",
    "#             writer.add(summary_op, i)\n",
    "#     losses.append(loss)\n",
    "    del loss\n",
    "    del out"
   ]
  },
  {
   "cell_type": "code",
   "execution_count": 5,
   "metadata": {
    "collapsed": false
   },
   "outputs": [],
   "source": [
    "torch.save(seq2seq.encoder, '../models/encoder.pth')\n",
    "torch.save(seq2seq.decoder, '../models/decoder.pth')"
   ]
  },
  {
   "cell_type": "code",
   "execution_count": 14,
   "metadata": {
    "collapsed": true
   },
   "outputs": [],
   "source": [
    "output, _ = seq2seq.forward(('written to you by', ''), False)"
   ]
  },
  {
   "cell_type": "code",
   "execution_count": 15,
   "metadata": {
    "collapsed": false
   },
   "outputs": [
    {
     "data": {
      "text/plain": [
       "'i dont know'"
      ]
     },
     "execution_count": 15,
     "metadata": {},
     "output_type": "execute_result"
    }
   ],
   "source": [
    "output"
   ]
  },
  {
   "cell_type": "code",
   "execution_count": null,
   "metadata": {
    "collapsed": true
   },
   "outputs": [],
   "source": []
  }
 ],
 "metadata": {
  "kernelspec": {
   "display_name": "Python 2",
   "language": "python",
   "name": "python2"
  },
  "language_info": {
   "codemirror_mode": {
    "name": "ipython",
    "version": 2
   },
   "file_extension": ".py",
   "mimetype": "text/x-python",
   "name": "python",
   "nbconvert_exporter": "python",
   "pygments_lexer": "ipython2",
   "version": "2.7.12"
  }
 },
 "nbformat": 4,
 "nbformat_minor": 1
}
