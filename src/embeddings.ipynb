{
 "cells": [
  {
   "cell_type": "code",
   "execution_count": 3,
   "metadata": {
    "collapsed": true
   },
   "outputs": [],
   "source": [
    "import os\n",
    "import re"
   ]
  },
  {
   "cell_type": "code",
   "execution_count": 4,
   "metadata": {
    "collapsed": false
   },
   "outputs": [
    {
     "name": "stdout",
     "output_type": "stream",
     "text": [
      "/Users/ashutoshchoudhary/Ashutosh/UMass/Semester2/690N/Project/conversational_agent_personified/data/glove.twitter.27B/glove.twitter.27B.200d.txt\n"
     ]
    }
   ],
   "source": [
    "root_dir = os.path.abspath('../')\n",
    "data_dir = os.path.join(root_dir, 'data')\n",
    "res_dir = os.path.join(root_dir, 'res')\n",
    "res_filtered_dir = os.path.join(root_dir, 'filtered')\n",
    "res_raw_dir = os.path.join(root_dir, 'raw')\n",
    "res_raw_vocab = os.path.join(res_raw_dir, 'vocab')\n",
    "res_raw_wti = os.path.join(res_raw_dir, 'wti')\n",
    "res_raw_embeddings = os.path.join(res_dir, 'embed')\n",
    "res_filt_vocab = os.path.join(res_filtered_dir, 'vocab')\n",
    "res_filt_wti = os.path.join(res_filtered_dir, 'wti')\n",
    "res_filt_embeddings = os.path.join(res_filtered_dir, 'embed')\n",
    "raw_data_dir = os.path.join(data_dir,'raw_data')\n",
    "clean_data_dir = os.path.join(data_dir, 'clean_data')\n",
    "embeddings_dir = os.path.join(data_dir, 'glove.twitter.27B')\n",
    "embeddings_file = os.path.join(embeddings_dir, 'glove.twitter.27B.200d.txt')\n",
    "print embeddings_file"
   ]
  },
  {
   "cell_type": "code",
   "execution_count": 47,
   "metadata": {
    "collapsed": false
   },
   "outputs": [],
   "source": [
    "def construct_vocabulary():\n",
    "    vocabulary = {}\n",
    "    vocab_list = []\n",
    "    embeddings = []\n",
    "    print \"Start filtering word embeddings...\"\n",
    "    for sub in os.listdir(clean_data_dir):\n",
    "        if sub.startswith(\".\"): \n",
    "            continue  # ignore other files like .DS_Store\n",
    "        else:\n",
    "            sub_dir = os.path.join(clean_data_dir,sub)\n",
    "            for file_name in os.listdir(sub_dir):\n",
    "                if file_name.startswith(\".\"):\n",
    "                    continue  # ignore other files like .DS_Store\n",
    "                else:\n",
    "                    full_filename = os.path.join(sub_dir,file_name)\n",
    "                    with open(full_filename) as f1:\n",
    "                        for i, line in enumerate(lines):\n",
    "                            words = line.split(\" \")\n",
    "                    #if vocabulary.has_key()"
   ]
  },
  {
   "cell_type": "code",
   "execution_count": 5,
   "metadata": {
    "collapsed": false
   },
   "outputs": [],
   "source": [
    "def question_answer_format():\n",
    "    vocabulary = {}\n",
    "    if not os.path.exists(res_dir):\n",
    "        os.makedirs(res_dir)\n",
    "    questions_file = os.path.join(res_dir,'input1.txt')\n",
    "    answers_file = os.path.join(res_dir,'input2.txt')\n",
    "    questions_file1 = os.path.join(res_dir,'input3.txt')\n",
    "    answers_file1 = os.path.join(res_dir,'input4.txt')    \n",
    "    print \"Start writing ques answer files...\"\n",
    "    lines_written = 0\n",
    "    for sub in os.listdir(clean_data_dir):\n",
    "        if sub.startswith(\".\"): \n",
    "            continue  # ignore other files like .DS_Store\n",
    "        else:\n",
    "            sub_dir = os.path.join(clean_data_dir,sub)\n",
    "            for file_name in os.listdir(sub_dir):\n",
    "                if file_name.startswith(\".\"):\n",
    "                    continue  # ignore other files like .DS_Store\n",
    "                else:\n",
    "                    full_filename = os.path.join(sub_dir,file_name)\n",
    "                    with open(full_filename) as f1:\n",
    "                        with open(questions_file, 'a') as f2, open(answers_file, 'a') as f3, open(questions_file1, 'a') as f4, open(answers_file1, 'a') as f5:                            \n",
    "                            lines = f1.readlines()\n",
    "                            for i, line in enumerate(lines):\n",
    "                                    line = line.split(\":\")[1]\n",
    "                                    line1 = re.sub(r'\\([^)]*\\)', '', line).strip(\" \")\n",
    "                                    f2.write(line)\n",
    "                                    f4.write(line1)\n",
    "                                    if lines_written == 0:\n",
    "                                        pass          \n",
    "                                    elif lines_written % 100000 == 0:\n",
    "                                        f3.write(line)\n",
    "                                        f5.write(line1)\n",
    "                                        print \"Lines written: {0}\".format(lines_written)\n",
    "                                        print \"Writing from {0}\".format(full_filename.split(\"/\")[-1])\n",
    "                                    else:\n",
    "                                        f3.write(line)\n",
    "                                        f5.write(line1)\n",
    "                                    lines_written += 1\n",
    "    print \"Finished writing all files\""
   ]
  },
  {
   "cell_type": "code",
   "execution_count": 7,
   "metadata": {
    "collapsed": false
   },
   "outputs": [
    {
     "name": "stdout",
     "output_type": "stream",
     "text": [
      "Start writing ques answer files...\n",
      "Lines written: 100000\n",
      "Writing from Battle of Algiers, The.txt\n",
      "Lines written: 200000\n",
      "Writing from Constantine.txt\n",
      "Lines written: 300000\n",
      "Writing from Freddy vs. Jason.txt\n",
      "Lines written: 400000\n",
      "Writing from Ides of March, The.txt\n",
      "Lines written: 500000\n",
      "Writing from Malibu's Most Wanted.txt\n",
      "Lines written: 600000\n",
      "Writing from Pirates of the Caribbean.txt\n",
      "Lines written: 700000\n",
      "Writing from Social Network, The.txt\n",
      "Lines written: 800000\n",
      "Writing from Very Bad Things.txt\n",
      "Finished writing all files\n"
     ]
    }
   ],
   "source": [
    "question_answer_format()"
   ]
  },
  {
   "cell_type": "code",
   "execution_count": 61,
   "metadata": {
    "collapsed": true
   },
   "outputs": [],
   "source": [
    "def loadWordEmbeddings(filename):\n",
    "    vocabulary = []\n",
    "    word_to_index = {}\n",
    "    embeddings = []\n",
    "    i = 0\n",
    "    file_point = 0\n",
    "    with open(filename,'r') as f:\n",
    "        for line in f.readlines():\n",
    "            one_record = line.strip().split(\" \")\n",
    "            vocabulary.append(one_record[0])\n",
    "            word_to_index[one_record[0]] = len(vocabulary)-1\n",
    "            embeddings.append(one_record[1:])\n",
    "            i += 1\n",
    "            if i%5000 == 0:\n",
    "                print \"Embedding of {0} words done\".format(str((i+1)*50))\n",
    "            if i%50000000 == 0 and i > 0:\n",
    "                print \"Now pickling word_to_index dict...\"\n",
    "                wti = \"wti\"+str(file_point)\n",
    "                embed = \"embedding\"+str(file_point)\n",
    "                wti_filename = os.path.join(res_raw_wti, wti)\n",
    "                embed_filename = os.path.join(res_raw_embeddings, embed)\n",
    "                with open(wti_filename, 'wb') as handle:\n",
    "                    pickle.dump(word_to_index, handle, protocol=pickle.HIGHEST_PROTOCOL)\n",
    "                print \"Pickling word_to_index dict complete.\"\n",
    "                print \"Now pickling embeddings array...\"\n",
    "                np.save(embed_filename, embeddings, allow_pickle=True)\n",
    "                print \"Pickling embeddings array complete.\"                \n",
    "                print \"Loaded embeddings!!\"\n",
    "                vocabulary = []\n",
    "                word_to_index = {}\n",
    "                embeddings = []\n",
    "            return vocabulary, word_to_index, embeddings"
   ]
  },
  {
   "cell_type": "code",
   "execution_count": 62,
   "metadata": {
    "collapsed": false
   },
   "outputs": [
    {
     "ename": "NameError",
     "evalue": "name 'filename' is not defined",
     "output_type": "error",
     "traceback": [
      "\u001b[0;31m---------------------------------------------------------------------------\u001b[0m",
      "\u001b[0;31mNameError\u001b[0m                                 Traceback (most recent call last)",
      "\u001b[0;32m<ipython-input-62-b942c85e928d>\u001b[0m in \u001b[0;36m<module>\u001b[0;34m()\u001b[0m\n\u001b[1;32m      1\u001b[0m \u001b[0membd_file_dir\u001b[0m \u001b[0;34m=\u001b[0m \u001b[0mos\u001b[0m\u001b[0;34m.\u001b[0m\u001b[0mpath\u001b[0m\u001b[0;34m.\u001b[0m\u001b[0mjoin\u001b[0m\u001b[0;34m(\u001b[0m\u001b[0mdata_dir\u001b[0m\u001b[0;34m,\u001b[0m \u001b[0;34m'glove.twitter.27B'\u001b[0m\u001b[0;34m)\u001b[0m\u001b[0;34m\u001b[0m\u001b[0m\n\u001b[1;32m      2\u001b[0m \u001b[0membd_file_name\u001b[0m \u001b[0;34m=\u001b[0m \u001b[0mos\u001b[0m\u001b[0;34m.\u001b[0m\u001b[0mpath\u001b[0m\u001b[0;34m.\u001b[0m\u001b[0mjoin\u001b[0m\u001b[0;34m(\u001b[0m\u001b[0membd_file_dir\u001b[0m\u001b[0;34m,\u001b[0m\u001b[0;34m'glove.twitter.27B.200d.txt'\u001b[0m\u001b[0;34m)\u001b[0m\u001b[0;34m\u001b[0m\u001b[0m\n\u001b[0;32m----> 3\u001b[0;31m \u001b[0mloadWordEmbeddings\u001b[0m\u001b[0;34m(\u001b[0m\u001b[0mfilename\u001b[0m\u001b[0;34m)\u001b[0m\u001b[0;34m\u001b[0m\u001b[0m\n\u001b[0m",
      "\u001b[0;31mNameError\u001b[0m: name 'filename' is not defined"
     ]
    }
   ],
   "source": [
    "embd_file_dir = os.path.join(data_dir, 'glove.twitter.27B')\n",
    "embd_file_name = os.path.join(embd_file_dir,'glove.twitter.27B.200d.txt')\n",
    "loadWordEmbeddings(embd_file_name)"
   ]
  },
  {
   "cell_type": "code",
   "execution_count": null,
   "metadata": {
    "collapsed": true
   },
   "outputs": [],
   "source": [
    "construct_vocabulary()"
   ]
  }
 ],
 "metadata": {
  "anaconda-cloud": {},
  "kernelspec": {
   "display_name": "Python [default]",
   "language": "python",
   "name": "python2"
  },
  "language_info": {
   "codemirror_mode": {
    "name": "ipython",
    "version": 2
   },
   "file_extension": ".py",
   "mimetype": "text/x-python",
   "name": "python",
   "nbconvert_exporter": "python",
   "pygments_lexer": "ipython2",
   "version": "2.7.12"
  }
 },
 "nbformat": 4,
 "nbformat_minor": 1
}
