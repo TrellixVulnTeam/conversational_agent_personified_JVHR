{
 "cells": [
  {
   "cell_type": "code",
   "execution_count": 1,
   "metadata": {
    "collapsed": false
   },
   "outputs": [],
   "source": [
    "%load_ext autoreload\n",
    "%autoreload 2\n",
    "\n",
    "from nn import EncoderRNN, DecoderRNN, Seq2Seq\n",
    "import utils\n",
    "import cPickle as pickle\n",
    "import torch\n",
    "from tqdm import tqdm\n",
    "import random\n",
    "# import tensorflow as tf"
   ]
  },
  {
   "cell_type": "code",
   "execution_count": 2,
   "metadata": {
    "collapsed": false
   },
   "outputs": [
    {
     "name": "stdout",
     "output_type": "stream",
     "text": [
      "Reading lines...\n",
      "Done\n"
     ]
    }
   ],
   "source": [
    "lang, pairs = utils.prepare_data('../data/cmd/dialogs.txt')\n",
    "# lang, pairs = utils.prepare_data('../res/friends.txt', persona=True)\n",
    "# lang, pairs = pickle.load(open('data.pkl'))"
   ]
  },
  {
   "cell_type": "code",
   "execution_count": 3,
   "metadata": {
    "collapsed": false
   },
   "outputs": [],
   "source": [
    "pickle.dump((lang, pairs), open('data.pkl', 'wb'))"
   ]
  },
  {
   "cell_type": "markdown",
   "metadata": {},
   "source": [
    "# Testing if everything works"
   ]
  },
  {
   "cell_type": "code",
   "execution_count": 10,
   "metadata": {
    "collapsed": false
   },
   "outputs": [],
   "source": [
    "hidden_size = 10\n",
    "enc_size = hidden_size\n",
    "dec_size = hidden_size\n",
    "learning_rate = 0.01\n",
    "emb_dims = 5\n",
    "max_length = 11\n",
    "persona_size = 4\n",
    "lang.max_length = max_length\n",
    "seq2seq = Seq2Seq(lang, enc_size, dec_size, emb_dims, max_length, learning_rate, \n",
    "                  persona_size=persona_size, attention=False, persona=True)"
   ]
  },
  {
   "cell_type": "code",
   "execution_count": 15,
   "metadata": {
    "collapsed": false
   },
   "outputs": [
    {
     "name": "stderr",
     "output_type": "stream",
     "text": [
      "100%|██████████| 500/500 [00:03<00:00, 150.17it/s]\n"
     ]
    }
   ],
   "source": [
    "from tqdm import tqdm\n",
    "test_pair = [('Joey:how are you', 'Chandler:pretty good'), ('Chandler:what are you doing', 'Joey:nothing')]\n",
    "# test_pair = [('how are you', 'pretty good'),\n",
    "#              ('write some shit with shit seven eight nine ten as a dog', 'you talked a lot')]\n",
    "for i in tqdm(xrange(500)):\n",
    "    _, loss = seq2seq.forward(test_pair)"
   ]
  },
  {
   "cell_type": "code",
   "execution_count": 16,
   "metadata": {
    "collapsed": false
   },
   "outputs": [
    {
     "name": "stdout",
     "output_type": "stream",
     "text": [
      "['nothing', 'nothing']\n"
     ]
    }
   ],
   "source": [
    "# test_pair = [('how are you', ''), ('what are you', '')]\n",
    "test_pair = [('Joey:how are you', 'Chandler:'), ('Chandler:what are you doing', 'Joey:')]\n",
    "output, _ = seq2seq.forward(test_pair, False)\n",
    "print output"
   ]
  },
  {
   "cell_type": "code",
   "execution_count": 16,
   "metadata": {
    "collapsed": true
   },
   "outputs": [
    {
     "ename": "NameError",
     "evalue": "name 'd_weights' is not defined",
     "output_type": "error",
     "traceback": [
      "\u001b[0;31m---------------------------------------------------------------------------\u001b[0m",
      "\u001b[0;31mNameError\u001b[0m                                 Traceback (most recent call last)",
      "\u001b[0;32m<ipython-input-16-0445680a7f4b>\u001b[0m in \u001b[0;36m<module>\u001b[0;34m()\u001b[0m\n\u001b[0;32m----> 1\u001b[0;31m \u001b[0mseq2seq\u001b[0m\u001b[0;34m.\u001b[0m\u001b[0mencoder\u001b[0m\u001b[0;34m.\u001b[0m\u001b[0mrnn\u001b[0m\u001b[0;34m.\u001b[0m\u001b[0mset_weights\u001b[0m\u001b[0;34m(\u001b[0m\u001b[0;34m{\u001b[0m\u001b[0;34m'all_weights'\u001b[0m\u001b[0;34m:\u001b[0m\u001b[0md_weights\u001b[0m\u001b[0;34m}\u001b[0m\u001b[0;34m)\u001b[0m\u001b[0;34m\u001b[0m\u001b[0m\n\u001b[0m",
      "\u001b[0;31mNameError\u001b[0m: name 'd_weights' is not defined"
     ]
    }
   ],
   "source": [
    "seq2seq.encoder.rnn.set_weights({'all_weights':d_weights})"
   ]
  },
  {
   "cell_type": "markdown",
   "metadata": {},
   "source": [
    "# Training the model"
   ]
  },
  {
   "cell_type": "code",
   "execution_count": 3,
   "metadata": {
    "collapsed": false
   },
   "outputs": [],
   "source": [
    "hidden_size = 512\n",
    "enc_size = hidden_size\n",
    "dec_size = hidden_size\n",
    "learning_rate = 1e-5\n",
    "emb_dims = 200\n",
    "max_length = 30\n",
    "lang.max_length = max_length\n",
    "seq2seq = Seq2Seq(lang, enc_size, dec_size, emb_dims, max_length, learning_rate, \n",
    "                  persona_size=20, attention=True, persona=False)"
   ]
  },
  {
   "cell_type": "code",
   "execution_count": 4,
   "metadata": {
    "collapsed": true
   },
   "outputs": [],
   "source": [
    "N = 32 # Max limit for attention model\n",
    "buckets = []\n",
    "for i in xrange(0, len(pairs) / N, N):\n",
    "    buckets.append(pairs[i:min(i+N, len(pairs) - 1)])"
   ]
  },
  {
   "cell_type": "code",
   "execution_count": null,
   "metadata": {
    "collapsed": false,
    "scrolled": true
   },
   "outputs": [
    {
     "name": "stderr",
     "output_type": "stream",
     "text": [
      "  0%|          | 76/20000 [01:44<7:39:53,  1.38s/it]"
     ]
    }
   ],
   "source": [
    "import random\n",
    "\n",
    "for i in tqdm(xrange(20000)):\n",
    "    r_pair = random.choice(buckets)\n",
    "    _, loss = seq2seq.forward(r_pair)"
   ]
  },
  {
   "cell_type": "code",
   "execution_count": 6,
   "metadata": {
    "collapsed": false
   },
   "outputs": [],
   "source": [
    "output, _ = seq2seq.forward([('who are you', 'i am good')], False)"
   ]
  },
  {
   "cell_type": "code",
   "execution_count": 7,
   "metadata": {
    "collapsed": false
   },
   "outputs": [
    {
     "data": {
      "text/plain": [
       "['']"
      ]
     },
     "execution_count": 7,
     "metadata": {},
     "output_type": "execute_result"
    }
   ],
   "source": [
    "output"
   ]
  },
  {
   "cell_type": "markdown",
   "metadata": {
    "collapsed": true
   },
   "source": [
    "# Pretrained weights"
   ]
  },
  {
   "cell_type": "markdown",
   "metadata": {},
   "source": [
    "## Dump weights"
   ]
  },
  {
   "cell_type": "code",
   "execution_count": 7,
   "metadata": {
    "collapsed": false
   },
   "outputs": [],
   "source": [
    "import cPickle as pickle\n",
    "# set the same weights for encoder, only change is in the decoder\n",
    "# dump the weights from seq2seq model\n",
    "pretrained_encoder_weights = seq2seq.encoder.rnn.all_weights\n",
    "pretrained_decoder_weights = seq2seq.decoder.rnn.all_weights\n",
    "\n",
    "pickle.dump(pretrained_encoder_weights, open('../models/pretrained_encoder_weights', 'wb'))\n",
    "pickle.dump(pretrained_decoder_weights, open('../models/pretrained_decoder_weights', 'wb'))"
   ]
  },
  {
   "cell_type": "markdown",
   "metadata": {},
   "source": [
    "## Load weights"
   ]
  },
  {
   "cell_type": "code",
   "execution_count": 14,
   "metadata": {
    "collapsed": false
   },
   "outputs": [],
   "source": [
    "from torch.autograd import Variable\n",
    "import torch.cuda as cuda\n",
    "import cPickle as pickle\n",
    "\n",
    "load_to_persona = False\n",
    "\n",
    "pretrained_encoder_weights = pickle.load(open('../models/pretrained_encoder_weights'))\n",
    "pretrained_decoder_weights = pickle.load(open('../models/pretrained_decoder_weights'))\n",
    "\n",
    "if load_to_persona is True:\n",
    "    temp_var = Variable(cuda.FloatTensor(4*hidden_size, emb_dims + hidden_size + persona_size))\n",
    "    temp_var[:, :(emb_dims + hidden_size)] = pretrained_decoder_weights[0][0]\n",
    "decoder_weights = seq2seq.decoder.rnn.all_weights\n",
    "encoder_weights = seq2seq.encoder.rnn.all_weights\n",
    "decoder_weights = pretrained_decoder_weights\n",
    "if load_to_persona is True:\n",
    "    decoder_weights[0][0] = temp_var\n",
    "encoder_weights = pretrained_encoder_weights\n",
    "\n",
    "seq2seq.decoder.rnn.set_weights(pretrained_decoder_weights)\n",
    "seq2seq.encoder.rnn.set_weights(pretrained_encoder_weights)"
   ]
  }
 ],
 "metadata": {
  "kernelspec": {
   "display_name": "Python 2",
   "language": "python",
   "name": "python2"
  },
  "language_info": {
   "codemirror_mode": {
    "name": "ipython",
    "version": 2
   },
   "file_extension": ".py",
   "mimetype": "text/x-python",
   "name": "python",
   "nbconvert_exporter": "python",
   "pygments_lexer": "ipython2",
   "version": "2.7.12"
  }
 },
 "nbformat": 4,
 "nbformat_minor": 1
}
