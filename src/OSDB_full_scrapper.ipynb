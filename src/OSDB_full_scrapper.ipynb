{
 "cells": [
  {
   "cell_type": "markdown",
   "metadata": {},
   "source": [
    "## Import required libraries"
   ]
  },
  {
   "cell_type": "code",
   "execution_count": 8,
   "metadata": {
    "collapsed": false
   },
   "outputs": [],
   "source": [
    "import os\n",
    "import os.path\n",
    "from bs4 import BeautifulSoup\n",
    "import urllib2\n",
    "import requests, zipfile, StringIO\n",
    "from __future__ import division\n",
    "from __future__ import print_function\n",
    "import string"
   ]
  },
  {
   "cell_type": "markdown",
   "metadata": {},
   "source": [
    "## Download and extract all zip files containing srts"
   ]
  },
  {
   "cell_type": "code",
   "execution_count": 11,
   "metadata": {
    "collapsed": false
   },
   "outputs": [
    {
     "name": "stdout",
     "output_type": "stream",
     "text": [
      "https://www.opensubtitles.org/en/search/sublanguageid-eng/moviename-a/sort-6/asc-0/offset-0\n",
      "0\n",
      "{}\n"
     ]
    }
   ],
   "source": [
    "#all_start = string.ascii_lowercase+'0123456789'\n",
    "all_start = 'a'\n",
    "offset = 0\n",
    "max_offset = 40000\n",
    "offset_stride = 40\n",
    "threshold = 0.025\n",
    "movie_dict = {}\n",
    "for movie_char_start in all_start:\n",
    "    for offset in xrange(0, max_offset, offset_stride):\n",
    "        loop_movie_count = 0\n",
    "        movie_added_count = 0\n",
    "        search_url = 'https://www.opensubtitles.org/en/search/sublanguageid-eng/moviename-{0}/sort-6/asc-0/offset-{1}'.format(movie_char_start, offset)\n",
    "        print(search_url)\n",
    "        r = urllib2.urlopen(search_url).read()\n",
    "        soup = BeautifulSoup(r)\n",
    "        movies = soup.find_all(\"a\", class_=\"bnone\")\n",
    "        for movie in movies:\n",
    "            movie_name = movie.get_text().replace(\"\\n\",\" \")\n",
    "            movie_id = movie[\"href\"].split(\"/\")[3]\n",
    "            if movie_name in movie_dict:\n",
    "                loop_movie_count += 1\n",
    "            else:\n",
    "                movie_dict[movie_name] = movie_id\n",
    "                movie_added_count += 1\n",
    "                loop_movie_count += 1\n",
    "        #print(movie_added_count/loop_movie_count)\n",
    "        # If all links are exhausted\n",
    "        if loop_movie_count == 0 and movie_added_count == 0:\n",
    "            break\n",
    "        # If movies are repeating in the entire page: May remove later to check if we can get more files\n",
    "        if movie_added_count/loop_movie_count < threshold:\n",
    "            break\n",
    "            #print(movie_added_count/loop_movie_count)\n",
    "    print(len(movie_dict))\n",
    "    print(movie_dict)"
   ]
  },
  {
   "cell_type": "code",
   "execution_count": 51,
   "metadata": {
    "collapsed": false
   },
   "outputs": [
    {
     "name": "stdout",
     "output_type": "stream",
     "text": [
      "<!DOCTYPE html PUBLIC \"-//W3C//DTD XHTML 1.0 Strict//EN\" \"http://www.w3.org/TR/xhtml1/DTD/xhtml1-strict.dtd\">\n",
      "<html lang=\"en\" xml:lang=\"en\" xmlns=\"http://www.w3.org/1999/xhtml\">\n",
      " <head>\n",
      "  <link href=\"//static.opensubtitles.org/libs/js/jquery/jquery-ui.min.css\" rel=\"stylesheet\" type=\"text/css\"/>\n",
      "  <script src=\"//static.opensubtitles.org/libs/js/jquery/jquery.min.js\" type=\"text/javascript\">\n",
      "  </script>\n",
      "  <script src=\"//static.opensubtitles.org/libs/js/jquery/jquery-ui.min.js\" type=\"text/javascript\">\n",
      "  </script>\n",
      "  <script src=\"//static.opensubtitles.org/libs/js/mobile-detect.min.js\" type=\"text/javascript\">\n",
      "  </script>\n",
      "  <script src=\"//static.opensubtitles.org/libs/js/jquery.timeago/jquery.timeago.js\" type=\"text/javascript\">\n",
      "  </script>\n",
      "  <script src=\"//static.opensubtitles.org/libs/js/lscache.min.js\" type=\"text/javascript\">\n",
      "  </script>\n",
      "  <script src=\"//static.opensubtitles.org/libs/js/jquery/jquery.ui.autocomplete.custom.js?1\" type=\"text/javascript\">\n",
      "  </script>\n",
      "  <script type=\"text/javas\n"
     ]
    }
   ],
   "source": []
  },
  {
   "cell_type": "code",
   "execution_count": 52,
   "metadata": {
    "collapsed": true
   },
   "outputs": [],
   "source": [
    "movies = soup.find_all(\"a\", class_=\"bnone\")"
   ]
  },
  {
   "cell_type": "code",
   "execution_count": 100,
   "metadata": {
    "collapsed": false
   },
   "outputs": [
    {
     "name": "stdout",
     "output_type": "stream",
     "text": [
      "<a class=\"bnone\" href=\"/en/subtitles/5787879/suits-gone-en\" onclick=\"reLink(event,'/en/subtitles/5787879/suits-gone-en');\" title='subtitles - \"Suits\" Gone'>\"Suits\" Gone\n",
      "(2014)</a>\n",
      "\"Suits\" Gone\n",
      "(2014)\n",
      "/en/subtitles/5787879/suits-gone-en\n",
      "5787879\n"
     ]
    }
   ],
   "source": [
    "print(movies[30])\n",
    "print(movies[30].get_text())\n",
    "print(movies[30][\"href\"])\n",
    "print(movies[30][\"href\"].split(\"/\")[3])"
   ]
  },
  {
   "cell_type": "code",
   "execution_count": 98,
   "metadata": {
    "collapsed": false
   },
   "outputs": [
    {
     "name": "stdout",
     "output_type": "stream",
     "text": [
      "/Users/ashutoshchoudhary/Ashutosh/UMass/Semester2/690N/Project/conversational_agent_personified\n",
      "/Users/ashutoshchoudhary/Ashutosh/UMass/Semester2/690N/Project/conversational_agent_personified/data/osdb_raw_data\n"
     ]
    }
   ],
   "source": [
    "project_root = os.path.abspath(os.path.join('.', os.pardir))\n",
    "src_dir = os.path.join(project_root, 'src')\n",
    "data_dir = os.path.join(project_root, 'data')\n",
    "osdb_raw_data = os.path.join(data_dir, 'osdb_raw_data')\n",
    "print(project_root)\n",
    "print(osdb_raw_data)"
   ]
  },
  {
   "cell_type": "code",
   "execution_count": 111,
   "metadata": {
    "collapsed": false
   },
   "outputs": [
    {
     "name": "stdout",
     "output_type": "stream",
     "text": [
      "<!DOCTYPE html PUBLIC \"-//W3C//DTD XHTML 1.0 Strict//EN\" \"http://www.w3.org/TR/xhtml1/DTD/xhtml1-strict.dtd\"><html xmlns=\"http://www.w3.org/1999/xhtml\" lang=\"en\" xml:lang=\"en\"><head><link type=\"text/css\" rel=\"stylesheet\" href=\"//static.opensubtitles.org/libs/js/jquery/jquery-ui.min.css\"/><script type=\"text/javascript\" src=\"//static.opensubtitles.org/libs/js/jquery/jquery.min.js\"></script><script type=\"text/javascript\" src=\"//static.opensubtitles.org/libs/js/jquery/jquery-ui.min.js\"></script><script type=\"text/javascript\" src=\"//static.opensubtitles.org/libs/js/mobile-detect.min.js\"></script><script type=\"text/javascript\" src=\"//static.opensubtitles.org/libs/js/jquery.timeago/jquery.timeago.js\"></script><script type=\"text/javascript\" src=\"https://www.google.com/recaptcha/api.js?hl=en\"></script><script type=\"text/javascript\" src=\"//static.opensubtitles.org/libs/js/lscache.min.js\"></script><script type=\"text/javascript\" src=\"//static.opensubtitles.org/libs/js/jquery/jquery.ui.autocomplete.custom.js?1\"></script><script type=\"text/javascript\">   \n",
      "\t\t\t\t\t\tvar movie_thumb = null;\n",
      "\t\t\t\t\t</script><script type=\"text/javascript\">\t\t\t\t\n",
      "\t\t\t\tjQuery(document).ready(function() {    \n",
      "\t\t  \t\t\tjQuery(\"time.timeago\").timeago();\n",
      "\t\t\t\t});\n",
      "\t\t\t\t</script><meta http-equiv=\"content-type\" content=\"text/html; charset=utf-8\"/><meta name=\"google-site-verification\" content=\"YlFQS0yGw4Oazpbdw4c5BCqjXVR2nlPIuSKiMfvhA6k\"/><meta name=\"keywords\" content=\"subtitles, movie subtitles, download subtitles, english subtitles, fansub, subs, tv subtitles, series subtitles\"/><meta name=\"description\" content=\"Movie and TV Subtitles in multiple languages, thousands of translated subtitles uploaded daily. Free download from source, API support, millions of users.\"/><meta name=\"revisit-after\" content=\"7 days\"/><link rel=\"shortcut icon\" type=\"image/x-icon\" href=\"//static.opensubtitles.org/favicon.ico\"/><link rel=\"alternate\" hreflang=\"ar\" href=\"http://www.opensubtitles.org/ar/captcha/redirect-|en|download|vrf-108d030f|sub|3175400\"/><link rel=\"alternate\" hreflang=\"at\" href=\"http://www.opensubtitles.org/at/captcha/redirect-|en|download|vrf-108d030f|sub|3175400\"/><link rel=\"alternate\" hreflang=\"bg\" href=\"http://www.opensubtitles.org/bg/captcha/redirect-|en|download|vrf-108d030f|sub|3175400\"/><link rel=\"alternate\" hreflang=\"br\" href=\"http://www.opensubtitles.org/br/captcha/redirect-|en|download|vrf-108d030f|sub|3175400\"/><link rel=\"alternate\" hreflang=\"ca\" href=\"http://www.opensubtitles.org/ca/captcha/redirect-|en|download|vrf-108d030f|sub|3175400\"/><link rel=\"alternate\" hreflang=\"cs\" href=\"http://www.opensubtitles.org/cs/captcha/redirect-|en|download|vrf-108d030f|sub|3175400\"/><link rel=\"alternate\" hreflang=\"da\" href=\"http://www.opensubtitles.org/da/captcha/redirect-|en|download|vrf-108d030f|sub|3175400\"/><link rel=\"alternate\" hreflang=\"de\" href=\"http://www.opensubtitles.org/de/captcha/redirect-|en|download|vrf-108d030f|sub|3175400\"/><link rel=\"alternate\" hreflang=\"el\" href=\"http://www.opensubtitles.org/el/captcha/redirect-|en|download|vrf-108d030f|sub|3175400\"/><link rel=\"alternate\" hreflang=\"en\" href=\"http://www.opensubtitles.org/en/captcha/redirect-|en|download|vrf-108d030f|sub|3175400\"/><link rel=\"alternate\" hreflang=\"eo\" href=\"http://www.opensubtitles.org/eo/captcha/redirect-|en|download|vrf-108d030f|sub|3175400\"/><link rel=\"alternate\" hreflang=\"es\" href=\"http://www.opensubtitles.org/es/captcha/redirect-|en|download|vrf-108d030f|sub|3175400\"/><link rel=\"alternate\" hreflang=\"et\" href=\"http://www.opensubtitles.org/et/captcha/redirect-|en|download|vrf-108d030f|sub|3175400\"/><link rel=\"alternate\" hreflang=\"eu\" href=\"http://www.opensubtitles.org/eu/captcha/redirect-|en|download|vrf-108d030f|sub|3175400\"/><link rel=\"alternate\" hreflang=\"fa\" href=\"http://www.opensubtitles.org/fa/captcha/redirect-|en|download|vrf-108d030f|sub|3175400\"/><link rel=\"alternate\" hreflang=\"fi\" href=\"http://www.opensubtitles.org/fi/captcha/redirect-|en|download|vrf-108d030f|sub|3175400\"/><link rel=\"alternate\" hreflang=\"fr\" href=\"http://www.opensubtitles.org/fr/captcha/redirect-|en|download|vrf-108d030f|sub|3175400\"/><link rel=\"alternate\" hreflang=\"gl\" href=\"http://www.opensubtitles.org/gl/captcha/redirect-|en|download|vrf-108d030f|sub|3175400\"/><link rel=\"alternate\" hreflang=\"he\" href=\"http://www.opensubtitles.org/he/captcha/redirect-|en|download|vrf-108d030f|sub|3175400\"/><link rel=\"alternate\" hreflang=\"hi\" href=\"http://www.opensubtitles.org/hi/captcha/redirect-|en|download|vrf-108d030f|sub|3175400\"/><link rel=\"alternate\" hreflang=\"hr\" href=\"http://www.opensubtitles.org/hr/captcha/redirect-|en|download|vrf-108d030f|sub|3175400\"/><link rel=\"alternate\" hreflang=\"hu\" href=\"http://www.opensubtitles.org/hu/captcha/redirect-|en|download|vrf-108d030f|sub|3175400\"/><link rel=\"alternate\" hreflang=\"id\" href=\"http://www.opensubtitles.org/id/captcha/redirect-|en|download|vrf-108d030f|sub|3175400\"/><link rel=\"alternate\" hreflang=\"is\" href=\"http://www.opensubtitles.org/is/captcha/redirect-|en|download|vrf-108d030f|sub|3175400\"/><link rel=\"alternate\" hreflang=\"it\" href=\"http://www.opensubtitles.org/it/captcha/redirect-|en|download|vrf-108d030f|sub|3175400\"/><link rel=\"alternate\" hreflang=\"ja\" href=\"http://www.opensubtitles.org/ja/captcha/redirect-|en|download|vrf-108d030f|sub|3175400\"/><link rel=\"alternate\" hreflang=\"ka\" href=\"http://www.opensubtitles.org/ka/captcha/redirect-|en|download|vrf-108d030f|sub|3175400\"/><link rel=\"alternate\" hreflang=\"km\" href=\"http://www.opensubtitles.org/km/captcha/redirect-|en|download|vrf-108d030f|sub|3175400\"/><link rel=\"alternate\" hreflang=\"ko\" href=\"http://www.opensubtitles.org/ko/captcha/redirect-|en|download|vrf-108d030f|sub|3175400\"/><link rel=\"alternate\" hreflang=\"mk\" href=\"http://www.opensubtitles.org/mk/captcha/redirect-|en|download|vrf-108d030f|sub|3175400\"/><link rel=\"alternate\" hreflang=\"ms\" href=\"http://www.opensubtitles.org/ms/captcha/redirect-|en|download|vrf-108d030f|sub|3175400\"/><link rel=\"alternate\" hreflang=\"nl\" href=\"http://www.opensubtitles.org/nl/captcha/redirect-|en|download|vrf-108d030f|sub|3175400\"/><link rel=\"alternate\" hreflang=\"no\" href=\"http://www.opensubtitles.org/no/captcha/redirect-|en|download|vrf-108d030f|sub|3175400\"/><link rel=\"alternate\" hreflang=\"oc\" href=\"http://www.opensubtitles.org/oc/captcha/redirect-|en|download|vrf-108d030f|sub|3175400\"/><link rel=\"alternate\" hreflang=\"pt-br\" href=\"http://www.opensubtitles.org/pb/captcha/redirect-|en|download|vrf-108d030f|sub|3175400\"/><link rel=\"alternate\" hreflang=\"pl\" href=\"http://www.opensubtitles.org/pl/captcha/redirect-|en|download|vrf-108d030f|sub|3175400\"/><link rel=\"alternate\" hreflang=\"pt\" href=\"http://www.opensubtitles.org/pt/captcha/redirect-|en|download|vrf-108d030f|sub|3175400\"/><link rel=\"alternate\" hreflang=\"ro\" href=\"http://www.opensubtitles.org/ro/captcha/redirect-|en|download|vrf-108d030f|sub|3175400\"/><link rel=\"alternate\" hreflang=\"ru\" href=\"http://www.opensubtitles.org/ru/captcha/redirect-|en|download|vrf-108d030f|sub|3175400\"/><link rel=\"alternate\" hreflang=\"si\" href=\"http://www.opensubtitles.org/si/captcha/redirect-|en|download|vrf-108d030f|sub|3175400\"/><link rel=\"alternate\" hreflang=\"sk\" href=\"http://www.opensubtitles.org/sk/captcha/redirect-|en|download|vrf-108d030f|sub|3175400\"/><link rel=\"alternate\" hreflang=\"sl\" href=\"http://www.opensubtitles.org/sl/captcha/redirect-|en|download|vrf-108d030f|sub|3175400\"/><link rel=\"alternate\" hreflang=\"sq\" href=\"http://www.opensubtitles.org/sq/captcha/redirect-|en|download|vrf-108d030f|sub|3175400\"/><link rel=\"alternate\" hreflang=\"sr\" href=\"http://www.opensubtitles.org/sr/captcha/redirect-|en|download|vrf-108d030f|sub|3175400\"/><link rel=\"alternate\" hreflang=\"sv\" href=\"http://www.opensubtitles.org/sv/captcha/redirect-|en|download|vrf-108d030f|sub|3175400\"/><link rel=\"alternate\" hreflang=\"th\" href=\"http://www.opensubtitles.org/th/captcha/redirect-|en|download|vrf-108d030f|sub|3175400\"/><link rel=\"alternate\" hreflang=\"tl\" href=\"http://www.opensubtitles.org/tl/captcha/redirect-|en|download|vrf-108d030f|sub|3175400\"/><link rel=\"alternate\" hreflang=\"tr\" href=\"http://www.opensubtitles.org/tr/captcha/redirect-|en|download|vrf-108d030f|sub|3175400\"/><link rel=\"alternate\" hreflang=\"uk\" href=\"http://www.opensubtitles.org/uk/captcha/redirect-|en|download|vrf-108d030f|sub|3175400\"/><link rel=\"alternate\" hreflang=\"uz\" href=\"http://www.opensubtitles.org/uz/captcha/redirect-|en|download|vrf-108d030f|sub|3175400\"/><link rel=\"alternate\" hreflang=\"vi\" href=\"http://www.opensubtitles.org/vi/captcha/redirect-|en|download|vrf-108d030f|sub|3175400\"/><link rel=\"alternate\" hreflang=\"zh\" href=\"http://www.opensubtitles.org/zh/captcha/redirect-|en|download|vrf-108d030f|sub|3175400\"/><link rel=\"alternate\" hreflang=\"zh-tw\" href=\"http://www.opensubtitles.org/zt/captcha/redirect-|en|download|vrf-108d030f|sub|3175400\"/><link rel=\"search\" type=\"application/opensearchdescription+xml\" title=\"OpenSubtitles.org search\" href=\"/en/opensearch/sublanguageid-all\"/><link rel=\"index\" href=\"/en/\"/><link rel=\"help\" href=\"/en/faq\"/><link rel=\"search\" href=\"/en/\"/><link rel=\"copyright\" href=\"/en/disclaimer\"/><link rel=\"author\" href=\"/en//redirect/http://2pu.net/v/opensubtitles\"/><link rel=\"bookmark\" href=\"/en/captcha/redirect-%7Cen%7Cdownload%7Cvrf-108d030f%7Csub%7C3175400\" title=\"Subtitles - download movie and TV Series subtitles from the biggest open subtitles database\"/><meta name=\"robots\" content=\"noindex,follow\"/><link rel=\"alternate\" type=\"application/xml\" href=\"http://www.opensubtitles.org/en/captcha/redirect-%7Cen%7Cdownload%7Cvrf-108d030f%7Csub%7C3175400/xml\" title=\"XML version\"/><link rel=\"stylesheet\" type=\"text/css\" href=\"//static.opensubtitles.org/style.css\"/><title>Subtitles - download movie and TV Series subtitles from the biggest open subtitles database</title><style type=\"text/css\" media=\"screen\">.lang-selector ul{width:640px;margin-bottom:20px;overflow:hidden;}.lang-selector li{line-height:1.5em;float:left;display:inline;margin-top:10px;white-space:nowrap;}#double li{width:50%;}#triple li{width:33.333%;}#quad li{width:25%;}#six li{width:16.666%;}.lang-selector li a{padding:0 0 0 22px;text-decoration:none;}.lang-selector li a:hover{text-decoration:underline;}#menu ul li,#menul ul li,#menuc ul li{float:left;width:100%;}#menu ul li a,#menul ul li a,#menuc ul li a{height:1%;}</style><script type=\"text/javascript\" src=\"//static.opensubtitles.org/libs/js/common.js?114\"> \n",
      "\t\t\t\t \n",
      "\t\t\t</script> <script type=\"text/javascript\"> \n",
      "\t\t\t\t\t\t\t\t\t\t\tfunction redirectit()  {    \n",
      "\t\t\t\t\t\t\t\t\t\t\t\tvar url = \"/en/support#vip\";\n",
      "\t\t\t\t\t\t\t\t\t\t\t\twindow.location.href=url;\n",
      "\t\t\t\t\t\t\t\t\t\t\t}  \n",
      "\t\t\t\t\t\t\t\t\t\t\tfunction hideit(id)  {    \n",
      "\t\t\t\t\t\t\t\t\t\t\t\tdocument.getElementById(id).style.display = \"none\";\n",
      "\t\t\t\t\t\t\t\t\t\t\t\tcreateCookie('adblockmsg',1000,1);\t\t\t\t\t\t  \n",
      "\t\t\t\t\t\t\t\t\t\t\t}\n",
      "\t\t\t\t\t\t\t\t\t\t</script>\n",
      "<style type=\"text/css\">#gogacugu #hphbdvhv{display:none;background:buttonface;border:2px outset buttonface;color:buttontext;padding:0px 6px 0px 6px;}#gogacugu #hphbdvhv:active{padding:0px 5px 0px 7px;border-style:inset;background-color:ButtonFace;color:ButtonText;}#iqicewiw{display:none;}</style><script>\n",
      "\t\t\t\t\t\t!function(f,b,e,v,n,t,s){if(f.fbq)return;n=f.fbq=function(){n.callMethod?\n",
      "\t\t\t\t\t\tn.callMethod.apply(n,arguments):n.queue.push(arguments)};if(!f._fbq)f._fbq=n;\n",
      "\t\t\t\t\t\tn.push=n;n.loaded=!0;n.version='2.0';n.queue=[];t=b.createElement(e);t.async=!0;\n",
      "\t\t\t\t\t\tt.src=v;s=b.getElementsByTagName(e)[0];s.parentNode.insertBefore(t,s)}(window,\n",
      "\t\t\t\t\t\tdocument,'script','https://connect.facebook.net/en_US/fbevents.js');\n",
      "\t\t\t\t\t\tfbq('init', '1275562882511533');\n",
      "\t\t\t\t\t\tfbq('track', 'PageView');\n",
      "\t\t\t\t\t\t</script><noscript><img height=\"1\" width=\"1\" style=\"display:none\" src=\"https://www.facebook.com/tr?id=1275562882511533&amp;ev=PageView&amp;noscript=1\"/></noscript><script type=\"text/javascript\">\t\t\t\t\n",
      "\t\t\t\t\t\t\twindow.onload = function() {\n",
      "\t\t\t\t\t\t\t    if (!window.jQuery) {  \n",
      "\t\t\t\t\t\t\t        alert(\"Disable your adblock or use different browser, www.opensubtitles.org might not function properly (jQuery not loaded!)\");\n",
      "\t\t\t\t\t\t\t    }\n",
      "\t\t\t\t\t\t\t}\n",
      "\t\t\t\t\t\t</script></head><body><div class=\"content\" style=\"position:relative;\"><div class=\"right_side_fixed\"><iframe id='ab73a5ae' name='ab73a5ae' src='https://ads2.opensubtitles.org/1/www/delivery/afr.php?zoneid=6&amp;cb=87589' frameborder='0' scrolling='no' width='160' height='700'><a href='https://ads2.opensubtitles.org/1/www/delivery/ck.php?n=a9baef4b&amp;cb=87589' target='_blank'><img src='https://ads2.opensubtitles.org/1/www/delivery/avw.php?zoneid=6&amp;cb=87589&amp;n=a9baef4b' border='0' alt=''/></a></iframe></div> <div id=\"gogacugu\">\n",
      "<div id=\"iqicewiw\" style=\"z-index: 99999; position: fixed; width: 100%; background-color: rgb(251, 236, 173); overflow: hidden; border-bottom: 1px solid rgb(112, 112, 112); top: 0px; left: 0px; margin: 0px; padding: 0px; color: rgb(0, 0, 0); font-family: Verdana, Geneva, sans-serif; background-position: initial initial; background-repeat: initial initial;\">\n",
      "<div style=\"padding-top:5px;float:left;width:100%;font-size:13px;line-height:26px;height:31px;top: 12px;z-index:9999;text-align:left\">\n",
      "<img style=\"width:20px;height:20px;margin-left:12px;float:left;\" src=\"/gfx/logo-32x32-transparent.png\">\n",
      "&nbsp;<b>Ad blocking detected</b>, consider supporting www.OpenSubtitles.org in an other way\n",
      "<input id=\"hphbdvhv\" type=\"button\" style=\"padding-left:3px;\" name=\"submit\" value=\"Become VIP member for 10 EUR per year\" onclick=\"redirectit()\">\n",
      "<img style=\"display:none\" id=\"trackingpix\" src='/gfx/banners_campaigns/2x2.gif'/>\n",
      "<div class=\"close\" style=\"float:right;margin-right:10px;color:#000;cursor:pointer;\" onclick=\"hideit('gogacugu')\">X</div>\n",
      "</div>\n",
      "</div>\n",
      "</div>\n",
      "<script type=\"text/javascript\">  \n",
      "\t\t\t\t\t\t$(document).ready(function() {\t\t\t\t\t\t\n",
      "\t\t\t\t\t\t\tvar plg = readCookie('adblockmsg');  \n",
      "\t\t\t\t\t\t\tvar displayed = false;\t\n",
      "\t\t\t\t\t\t\t\t\t\t\t\t\n",
      "\t\t\t\t\t\t\tsetTimeout(function(){\n",
      "\t\t\t\t\t\t\t$(\"#trackingpix\").on('load', function() {\n",
      "\t\t\t\t\t\t\t\tif(document.getElementById('trackingpix').naturalHeight < 2 && (plg == null || (plg != null && plg <= 5)) && Math.floor((Math.random()*3)+1) % 3 == 0) { \n",
      "\t\t\t\t\t\t\t\t\t\t$( \"#gogacugu\").slideDown();\n",
      "\t\t\t\t\t\t\t\t\t\t$( \"#hphbdvhv\").slideDown();\n",
      "\t\t\t\t\t\t\t\t\t\t$( \"#iqicewiw\").slideDown();        \t\t\t\t\t\t\t\t\t\n",
      "\t\t\t\t\t\t\t\t\t\tdisplayed = true;     \n",
      "\t\t\t\t\t\t\t\t}                                                                                               \n",
      " \t\t\t\t    \n",
      "\t\t\t\t\t\t\t}).each(function() {\n",
      "\t\t\t\t\t\t\t\tif(this.complete) $(this).load();\n",
      "\t\t\t\t\t\t\t});\n",
      "\n",
      "\t\t\t\t\t\t\tif(displayed == true) {      \n",
      "\t\t\t\t\t\t\t\tif(plg == null) plg = 0;\n",
      "\t\t\t\t\t\t\t\tcreateCookie('adblockmsg',++plg,1);                  \n",
      "\t\t\t\t\t\t\t}\n",
      "\t\t\t\t\t\t\t\n",
      "\t\t\t\t\t\t\t}, 1);\t\t\t\t\t\t\t\n",
      "\t\t\t\t\t\t\t\n",
      "\t\t\t\t\t\t});\n",
      "\t\t\t\t\t\t</script><div id=\"network\"><div id=\"network_links\"><a target=\"_blank\" href=\"http://context.reverso.net/\" title=\"Translation in context\">Translation in context</a> |\n",
      "<a href=\"http://www.opensubtitles.eu\" target=\"_blank\" title=\"Movie Subtitles and TV Subtitles - Free Download\">Movie Subtitles</a> |\n",
      "<a href=\"http://www.english-subtitles.pro\" target=\"_blank\" title=\"English Subtitles for Movies and TV Series\">English Subtitles</a> |\n",
      "<a href=\"http://www.rlsbb.com\" target=\"_blank\" title=\"Download latest Movies and Tvshows\">RlsBB</a> |\n",
      "<a href=\"http://www.rlslog.net\" target=\"_blank\" title=\"New scene releases\">Releaselog</a> |\n",
      "<b><a onclick=\"chrome.webstore.install();return false;\" href=\"http://2pu.net/v/opensubtitles\" target=\"_blank\" title=\"Contact opensubtitles.org\">Your link here</a></b></div></div><div class=\"header\"><div class=\"top_info\"><div class=\"top_info_right\"><img src=\"//static.opensubtitles.org/gfx/img_trans.gif\" class=\"flag en\"/><a id=\"language-selector-link\" href=\"javascript:void(0);\">Site Language</a><div style=\"display:none\" id=\"dialog-modal-site-language\" title=\"Site Language\"><ul class=\"lang-selector\" id=\"triple\"><li><div class=\"flag ar\"><a href=\"/captcha/redirect-|en|download|vrf-108d030f|sub|3175400/setlang-ar\" title=\"(ar) العربية\">العربية</a></div></li><li><div class=\"flag at\"><a href=\"/captcha/redirect-|en|download|vrf-108d030f|sub|3175400/setlang-at\" title=\"(at) Asturianu\">Asturianu</a></div></li><li><div class=\"flag bg\"><a href=\"/captcha/redirect-|en|download|vrf-108d030f|sub|3175400/setlang-bg\" title=\"(bg) български език\">български език</a></div></li><li><div class=\"flag br\"><a href=\"/captcha/redirect-|en|download|vrf-108d030f|sub|3175400/setlang-br\" title=\"(br) Brezhoneg\">Brezhoneg</a></div></li><li><div class=\"flag ca\"><a href=\"/captcha/redirect-|en|download|vrf-108d030f|sub|3175400/setlang-ca\" title=\"(ca) Català\">Català</a></div></li><li><div class=\"flag cs\"><a href=\"/captcha/redirect-|en|download|vrf-108d030f|sub|3175400/setlang-cs\" title=\"(cs) Čeština\">Čeština</a></div></li><li><div class=\"flag da\"><a href=\"/captcha/redirect-|en|download|vrf-108d030f|sub|3175400/setlang-da\" title=\"(da) Dansk\">Dansk</a></div></li><li><div class=\"flag de\"><a href=\"/captcha/redirect-|en|download|vrf-108d030f|sub|3175400/setlang-de\" title=\"(de) Deutsch\">Deutsch</a></div></li><li><div class=\"flag el\"><a href=\"/captcha/redirect-|en|download|vrf-108d030f|sub|3175400/setlang-el\" title=\"(el) Ελληνικά\">Ελληνικά</a></div></li><li><div class=\"flag en\"><a href=\"#\" title=\"(en) English\">English</a></div></li><li><div class=\"flag eo\"><a href=\"/captcha/redirect-|en|download|vrf-108d030f|sub|3175400/setlang-eo\" title=\"(eo) Esperanto\">Esperanto</a></div></li><li><div class=\"flag es\"><a href=\"/captcha/redirect-|en|download|vrf-108d030f|sub|3175400/setlang-es\" title=\"(es) Español\">Español</a></div></li><li><div class=\"flag et\"><a href=\"/captcha/redirect-|en|download|vrf-108d030f|sub|3175400/setlang-et\" title=\"(et) Eesti keel\">Eesti keel</a></div></li><li><div class=\"flag eu\"><a href=\"/captcha/redirect-|en|download|vrf-108d030f|sub|3175400/setlang-eu\" title=\"(eu) Basque\">Basque</a></div></li><li><div class=\"flag fa\"><a href=\"/captcha/redirect-|en|download|vrf-108d030f|sub|3175400/setlang-fa\" title=\"(fa) فارسی\">فارسی</a></div></li><li><div class=\"flag fi\"><a href=\"/captcha/redirect-|en|download|vrf-108d030f|sub|3175400/setlang-fi\" title=\"(fi) Suomi\">Suomi</a></div></li><li><div class=\"flag fr\"><a href=\"/captcha/redirect-|en|download|vrf-108d030f|sub|3175400/setlang-fr\" title=\"(fr) Français\">Français</a></div></li><li><div class=\"flag gl\"><a href=\"/captcha/redirect-|en|download|vrf-108d030f|sub|3175400/setlang-gl\" title=\"(gl) Galego\">Galego</a></div></li><li><div class=\"flag he\"><a href=\"/captcha/redirect-|en|download|vrf-108d030f|sub|3175400/setlang-he\" title=\"(he) עִבְרִית\">עִבְרִית</a></div></li><li><div class=\"flag hi\"><a href=\"/captcha/redirect-|en|download|vrf-108d030f|sub|3175400/setlang-hi\" title=\"(hi) हिन्दी\">हिन्दी</a></div></li><li><div class=\"flag hr\"><a href=\"/captcha/redirect-|en|download|vrf-108d030f|sub|3175400/setlang-hr\" title=\"(hr) Hrvatski jezik\">Hrvatski jezik</a></div></li><li><div class=\"flag hu\"><a href=\"/captcha/redirect-|en|download|vrf-108d030f|sub|3175400/setlang-hu\" title=\"(hu) Magyar\">Magyar</a></div></li><li><div class=\"flag id\"><a href=\"/captcha/redirect-|en|download|vrf-108d030f|sub|3175400/setlang-id\" title=\"(id) Bahasa Indonesia\">Bahasa Indonesia</a></div></li><li><div class=\"flag is\"><a href=\"/captcha/redirect-|en|download|vrf-108d030f|sub|3175400/setlang-is\" title=\"(is) Icelandic\">Icelandic</a></div></li><li><div class=\"flag it\"><a href=\"/captcha/redirect-|en|download|vrf-108d030f|sub|3175400/setlang-it\" title=\"(it) Italiano\">Italiano</a></div></li><li><div class=\"flag ja\"><a href=\"/captcha/redirect-|en|download|vrf-108d030f|sub|3175400/setlang-ja\" title=\"(ja) 日本語\">日本語</a></div></li><li><div class=\"flag ka\"><a href=\"/captcha/redirect-|en|download|vrf-108d030f|sub|3175400/setlang-ka\" title=\"(ka) Georgian\">Georgian</a></div></li><li><div class=\"flag km\"><a href=\"/captcha/redirect-|en|download|vrf-108d030f|sub|3175400/setlang-km\" title=\"(km) ភាសាខ្មែរ\">ភាសាខ្មែរ</a></div></li><li><div class=\"flag ko\"><a href=\"/captcha/redirect-|en|download|vrf-108d030f|sub|3175400/setlang-ko\" title=\"(ko) 한국어\">한국어</a></div></li><li><div class=\"flag mk\"><a href=\"/captcha/redirect-|en|download|vrf-108d030f|sub|3175400/setlang-mk\" title=\"(mk) македонски јазик\">македонски јазик</a></div></li><li><div class=\"flag ms\"><a href=\"/captcha/redirect-|en|download|vrf-108d030f|sub|3175400/setlang-ms\" title=\"(ms) Malay\">Malay</a></div></li><li><div class=\"flag nl\"><a href=\"/captcha/redirect-|en|download|vrf-108d030f|sub|3175400/setlang-nl\" title=\"(nl) Nederlands\">Nederlands</a></div></li><li><div class=\"flag no\"><a href=\"/captcha/redirect-|en|download|vrf-108d030f|sub|3175400/setlang-no\" title=\"(no) Norsk\">Norsk</a></div></li><li><div class=\"flag oc\"><a href=\"/captcha/redirect-|en|download|vrf-108d030f|sub|3175400/setlang-oc\" title=\"(oc) Occitan\">Occitan</a></div></li><li><div class=\"flag pb\"><a href=\"/captcha/redirect-|en|download|vrf-108d030f|sub|3175400/setlang-pb\" title=\"(pb) Português (BR)\">Português (BR)</a></div></li><li><div class=\"flag pl\"><a href=\"/captcha/redirect-|en|download|vrf-108d030f|sub|3175400/setlang-pl\" title=\"(pl) Polski\">Polski</a></div></li><li><div class=\"flag pt\"><a href=\"/captcha/redirect-|en|download|vrf-108d030f|sub|3175400/setlang-pt\" title=\"(pt) Português\">Português</a></div></li><li><div class=\"flag ro\"><a href=\"/captcha/redirect-|en|download|vrf-108d030f|sub|3175400/setlang-ro\" title=\"(ro) Română\">Română</a></div></li><li><div class=\"flag ru\"><a href=\"/captcha/redirect-|en|download|vrf-108d030f|sub|3175400/setlang-ru\" title=\"(ru) русский язык\">русский язык</a></div></li><li><div class=\"flag si\"><a href=\"/captcha/redirect-|en|download|vrf-108d030f|sub|3175400/setlang-si\" title=\"(si) සිංහල\">සිංහල</a></div></li><li><div class=\"flag sk\"><a href=\"/captcha/redirect-|en|download|vrf-108d030f|sub|3175400/setlang-sk\" title=\"(sk) Slovenčina\">Slovenčina</a></div></li><li><div class=\"flag sl\"><a href=\"/captcha/redirect-|en|download|vrf-108d030f|sub|3175400/setlang-sl\" title=\"(sl) Slovenščina\">Slovenščina</a></div></li><li><div class=\"flag sq\"><a href=\"/captcha/redirect-|en|download|vrf-108d030f|sub|3175400/setlang-sq\" title=\"(sq) Shqip\">Shqip</a></div></li><li><div class=\"flag sr\"><a href=\"/captcha/redirect-|en|download|vrf-108d030f|sub|3175400/setlang-sr\" title=\"(sr) Cрпски\">Cрпски</a></div></li><li><div class=\"flag sv\"><a href=\"/captcha/redirect-|en|download|vrf-108d030f|sub|3175400/setlang-sv\" title=\"(sv) Svenska\">Svenska</a></div></li><li><div class=\"flag th\"><a href=\"/captcha/redirect-|en|download|vrf-108d030f|sub|3175400/setlang-th\" title=\"(th) ภาษาไทย\">ภาษาไทย</a></div></li><li><div class=\"flag tl\"><a href=\"/captcha/redirect-|en|download|vrf-108d030f|sub|3175400/setlang-tl\" title=\"(tl) Tagalog\">Tagalog</a></div></li><li><div class=\"flag tr\"><a href=\"/captcha/redirect-|en|download|vrf-108d030f|sub|3175400/setlang-tr\" title=\"(tr) Türkçe\">Türkçe</a></div></li><li><div class=\"flag uk\"><a href=\"/captcha/redirect-|en|download|vrf-108d030f|sub|3175400/setlang-uk\" title=\"(uk) українська мова\">українська мова</a></div></li><li><div class=\"flag uz\"><a href=\"/captcha/redirect-|en|download|vrf-108d030f|sub|3175400/setlang-uz\" title=\"(uz) O'zbek\">O'zbek</a></div></li><li><div class=\"flag vi\"><a href=\"/captcha/redirect-|en|download|vrf-108d030f|sub|3175400/setlang-vi\" title=\"(vi) Tiếng Việt\">Tiếng Việt</a></div></li><li><div class=\"flag zh\"><a href=\"/captcha/redirect-|en|download|vrf-108d030f|sub|3175400/setlang-zh\" title=\"(zh) 汉语\">汉语</a></div></li><li><div class=\"flag zt\"><a href=\"/captcha/redirect-|en|download|vrf-108d030f|sub|3175400/setlang-zt\" title=\"(zt) 漢語\">漢語</a></div></li></ul></div><script type=\"text/javascript\">   \n",
      "\t\t//hook for language-selector-link\n",
      "\t\t\t$('#language-selector-link').click(function() {\n",
      "\t\t   \t$( \"#dialog-modal-site-language\" ).dialog({\n",
      "\t\t     \t\theight: 480,\n",
      "\t\t\t  \t\twidth:580,\n",
      "\t\t     \t\tmodal: true,\n",
      "\t\t\t\t \topen: function() {\n",
      "\t\t\t\t    \t$(this).find('a, select, input, textarea, button').blur(); //first work without 'a'\n",
      "\t\t\t\t  \t}\n",
      "\t\t   \t });                                       \n",
      "\t\t\t});\t  \n",
      "</script></div><div id=\"logindetail\" class=\"top_info_left\"><strong>You are not logged in!</strong>\n",
      " \n",
      "<a class=\"disable_ad\" href=\"/en/login/redirect-|en|captcha|redirect-|en|download|vrf-108d030f|sub|3175400\" onclick=\"Login('/en/captcha/redirect-%7Cen%7Cdownload%7Cvrf-108d030f%7Csub%7C3175400');return false;\">Log-In</a> |\n",
      "<a class=\"disable_ad\" href=\"/en/newuser\">Register</a></div></div><div class=\"logo\" itemscope=\"\" itemtype=\"http://schema.org/Organization\"><img itemprop=\"logo\" width=\"0\" height=\"0\" style=\"visibility:hidden;\" src=\"//static.opensubtitles.org/gfx/logo_64x64.gif\"/><a itemprop=\"url\" title=\"Subtitles - download movie and TV Series subtitles from the biggest open subtitles database\" href=\"/en\"><img width=\"180\" height=\"50\" alt=\"Subtitles - download movie and TV Series subtitles from the biggest open subtitles database\" src=\"//static.opensubtitles.org/gfx/logo.gif\"/></a></div></div><div class=\"bar\"><ul><li class=\"slogan\">search in 4093207 subtitles</li><li><a href=\"/en/search\" title=\"subtitles Search\">Search</a></li><li><a href=\"/en/upload\" title=\"subtitles Upload\">Upload</a></li><li><a href=\"/en/request\" title=\"subtitles Request\">Request</a></li><li><a href=\"/en/forum\" title=\"subtitles Forum\">Forum</a></li><li><a href=\"http://blog.opensubtitles.org\" title=\"subtitles Blog\">Blog</a></li><li><a href=\"/en/player\" title=\"subtitles Player\">Player</a></li></ul></div><script>\n",
      "//var RecaptchaOptions = { theme : 'white' };\n",
      "</script><script type=\"text/javascript\">    \n",
      "  var onReturnCallback = function(response) {  \n",
      "    var url='/libs/temp/recaptcha_proxy.php?url=' + 'https://www.google.com/recaptcha/api/siteverify';  \n",
      "    $.ajax({ 'url' : url, \n",
      "               dataType: 'json',\n",
      "               data: { response: response},\n",
      "               success: function( data  ) {  \n",
      "                    var res = data.success.toString(); \n",
      "                    if (res)\n",
      "                       { document.recaptcha2.submit(); }    \n",
      "                }  // end success \n",
      "           });  // end $.ajax\n",
      "\n",
      "  };  // end onReturnCallback\n",
      "</script><div class=\"msg hint\"><b>Please confirm you are not robot.</b> If you don't want to do this, please become <a href=\"/support#vip\">VIP member</a> or log-in.<br/>If you got troubles, <a href=\"/libs/temp/clear_cookie.html\">click here</a> or delete browser cookies and cache<br/>If you are wondering what's going on please read <a href=\"http://forum.opensubtitles.org/viewtopic.php?f=1&t=14559\">CAPTCHA post in forum</a></div><h1>CAPTCHA robot test</h1><div style=\"margin:10px;width:740px;margin-left:auto;margin-right:auto;\"><form action=\"\" method=\"post\" name=\"recaptcha2\" id=\"recaptcha2\"><div class=\"g-recaptcha\" id=\"g-recaptcha\" data-sitekey=\"6LfE8QUTAAAAAHfHiVUyl_GRxVOlS8wmyLFPn10b\" data-callback=\"onReturnCallback\" data-theme=\"light\"></div></form></div><div class=\"footer upfooter\" id=\"alphabet\"><a title='subtitles' href='/en/search/sublanguageid-all'>New subtitles</a><a title='subtitles - a' href='/en/search/sublanguageid-all/moviename-a'>A</a><a title='subtitles - b' href='/en/search/sublanguageid-all/moviename-b'>B</a><a title='subtitles - c' href='/en/search/sublanguageid-all/moviename-c'>C</a><a title='subtitles - d' href='/en/search/sublanguageid-all/moviename-d'>D</a><a title='subtitles - e' href='/en/search/sublanguageid-all/moviename-e'>E</a><a title='subtitles - f' href='/en/search/sublanguageid-all/moviename-f'>F</a><a title='subtitles - g' href='/en/search/sublanguageid-all/moviename-g'>G</a><a title='subtitles - h' href='/en/search/sublanguageid-all/moviename-h'>H</a><a title='subtitles - i' href='/en/search/sublanguageid-all/moviename-i'>I</a><a title='subtitles - j' href='/en/search/sublanguageid-all/moviename-j'>J</a><a title='subtitles - k' href='/en/search/sublanguageid-all/moviename-k'>K</a><a title='subtitles - l' href='/en/search/sublanguageid-all/moviename-l'>L</a><a title='subtitles - m' href='/en/search/sublanguageid-all/moviename-m'>M</a><a title='subtitles - n' href='/en/search/sublanguageid-all/moviename-n'>N</a><a title='subtitles - o' href='/en/search/sublanguageid-all/moviename-o'>O</a><a title='subtitles - p' href='/en/search/sublanguageid-all/moviename-p'>P</a><a title='subtitles - q' href='/en/search/sublanguageid-all/moviename-q'>Q</a><a title='subtitles - r' href='/en/search/sublanguageid-all/moviename-r'>R</a><a title='subtitles - s' href='/en/search/sublanguageid-all/moviename-s'>S</a><a title='subtitles - t' href='/en/search/sublanguageid-all/moviename-t'>T</a><a title='subtitles - u' href='/en/search/sublanguageid-all/moviename-u'>U</a><a title='subtitles - v' href='/en/search/sublanguageid-all/moviename-v'>V</a><a title='subtitles - w' href='/en/search/sublanguageid-all/moviename-w'>W</a><a title='subtitles - x' href='/en/search/sublanguageid-all/moviename-x'>X</a><a title='subtitles - y' href='/en/search/sublanguageid-all/moviename-y'>Y</a><a title='subtitles - z' href='/en/search/sublanguageid-all/moviename-z'>Z</a><a title='subtitles - %23' href='/en/search/sublanguageid-all/moviename-%23'>#</a></div><div class=\"footer\"><p><a href=\"/en/support\">Support us</a> |\n",
      "<a href=\"/en/downloads\">Download</a> |\n",
      "<a href=\"/en/faq\">FAQ</a> |\n",
      "<a href=\"/en/links\">Links</a> |\n",
      "<a href=\"/en/statistics\">Statistics</a> |\n",
      "<a href=\"http://2pu.net/v/opensubtitles\">Contact</a> |\n",
      "<a href=\"/en/disclaimer\">Disclaimer</a> |\n",
      "<a href=\"http://trac.opensubtitles.org/projects/opensubtitles\" title=\"Webservice API\">Developers</a> |\n",
      "<a href=\"/en/dmca\">\n",
      "DMCA\n",
      "</a> |\n",
      "<a href=\"/en/stafflist\">\n",
      "Admins\n",
      "</a></p><div id=\"lang_footer\"><a href=\"/captcha/redirect-|en|download|vrf-108d030f|sub|3175400/setlang-en\" title=\"English subtitles - opensubtitles.org\">English subtitles</a> | <a href=\"/captcha/redirect-|en|download|vrf-108d030f|sub|3175400/setlang-ar\" title=\"ترجمة عربى - opensubtitles.org\">ترجمة عربى</a> | <a href=\"/captcha/redirect-|en|download|vrf-108d030f|sub|3175400/setlang-eu\" title=\"Euskarazko azpidatziak - opensubtitles.org\">Euskarazko azpidatziak</a> | <a href=\"/captcha/redirect-|en|download|vrf-108d030f|sub|3175400/setlang-bg\" title=\"Български субтитри - opensubtitles.org\">Български субтитри</a> | <a href=\"/captcha/redirect-|en|download|vrf-108d030f|sub|3175400/setlang-hr\" title=\"Hrvatski titlovi - opensubtitles.org\">Hrvatski titlovi</a> | <a href=\"/captcha/redirect-|en|download|vrf-108d030f|sub|3175400/setlang-ca\" title=\"Subtítols en Català - opensubtitles.org\">Subtítols en Català</a> | <a href=\"/captcha/redirect-|en|download|vrf-108d030f|sub|3175400/setlang-cs\" title=\"České titulky - opensubtitles.org\">České titulky</a> | <a href=\"/captcha/redirect-|en|download|vrf-108d030f|sub|3175400/setlang-da\" title=\"Danske undertekster - opensubtitles.org\">Danske undertekster</a> | <a href=\"/captcha/redirect-|en|download|vrf-108d030f|sub|3175400/setlang-de\" title=\"Deutsche Untertitel - opensubtitles.org\">Deutsche Untertitel</a> | <a href=\"/captcha/redirect-|en|download|vrf-108d030f|sub|3175400/setlang-nl\" title=\"Nederlandse Ondertitels - opensubtitles.org\">Nederlandse Ondertitels</a> | <a href=\"/captcha/redirect-|en|download|vrf-108d030f|sub|3175400/setlang-et\" title=\"Eesti subtiitrid - opensubtitles.org\">Eesti subtiitrid</a> | <a href=\"/captcha/redirect-|en|download|vrf-108d030f|sub|3175400/setlang-eo\" title=\"Esperantaj subtekstoj - opensubtitles.org\">Esperantaj subtekstoj</a> | <a href=\"/captcha/redirect-|en|download|vrf-108d030f|sub|3175400/setlang-es\" title=\"subtítulos en Espańol - opensubtitles.org\">subtítulos en Espańol</a> | <a href=\"/captcha/redirect-|en|download|vrf-108d030f|sub|3175400/setlang-fa\" title=\"زیرنویس فارسی - opensubtitles.org\">زیرنویس فارسی</a> | <a href=\"/captcha/redirect-|en|download|vrf-108d030f|sub|3175400/setlang-fi\" title=\"Suomi tekstitykset - opensubtitles.org\">Suomi tekstitykset</a> | <a href=\"/captcha/redirect-|en|download|vrf-108d030f|sub|3175400/setlang-fr\" title=\"Sous-titres français - opensubtitles.org\">Sous-titres français</a> | <a href=\"/captcha/redirect-|en|download|vrf-108d030f|sub|3175400/setlang-gl\" title=\"Subtítulos en galego - opensubtitles.org\">Subtítulos en galego</a> | <a href=\"/captcha/redirect-|en|download|vrf-108d030f|sub|3175400/setlang-gr\" title=\"Ελληνικά υπότιτλοι - opensubtitles.org\">Ελληνικά υπότιτλοι</a> | <a href=\"/captcha/redirect-|en|download|vrf-108d030f|sub|3175400/setlang-he\" title=\"כתוביות עברית - opensubtitles.org\">כתוביות עברית</a> | <a href=\"/captcha/redirect-|en|download|vrf-108d030f|sub|3175400/setlang-hi\" title=\"हिन्दी सबटायटल - opensubtitles.org\">हिन्दी सबटायटल</a> | <a href=\"/captcha/redirect-|en|download|vrf-108d030f|sub|3175400/setlang-hu\" title=\"Magyar feliratok - opensubtitles.org\">Magyar feliratok</a> | <a href=\"/captcha/redirect-|en|download|vrf-108d030f|sub|3175400/setlang-is\" title=\"Íslenskir Textar - opensubtitles.org\">Íslenskir Textar</a> | <a href=\"/captcha/redirect-|en|download|vrf-108d030f|sub|3175400/setlang-id\" title=\"Subjudul Bahasa Indonesia - opensubtitles.org\">Subjudul Bahasa Indonesia</a> | <a href=\"/captcha/redirect-|en|download|vrf-108d030f|sub|3175400/setlang-it\" title=\"Italiano sottotitoli - opensubtitles.org\">Italiano sottotitoli</a> | <a href=\"/captcha/redirect-|en|download|vrf-108d030f|sub|3175400/setlang-ja\" title=\"日本のサブタイトル - opensubtitles.org\">日本のサブタイトル</a> | <a href=\"/captcha/redirect-|en|download|vrf-108d030f|sub|3175400/setlang-ka\" title=\"ქართული სუბტიტრები - opensubtitles.org\">ქართული სუბტიტრები</a> | <a href=\"/captcha/redirect-|en|download|vrf-108d030f|sub|3175400/setlang-km\" title=\"អត្ថបទរឿងជាភាសាខ្មែរ - opensubtitles.org\">អត្ថបទរឿងជាភាសាខ្មែរ</a> | <a href=\"/captcha/redirect-|en|download|vrf-108d030f|sub|3175400/setlang-ko\" title=\"한국 부제 - opensubtitles.org\">한국 부제</a> | <a href=\"/captcha/redirect-|en|download|vrf-108d030f|sub|3175400/setlang-mk\" title=\"Македонски преводи - opensubtitles.org\">Македонски преводи</a> | <a href=\"/captcha/redirect-|en|download|vrf-108d030f|sub|3175400/setlang-mc\" title=\"Subjudul Bahasa Melayu - opensubtitles.org\">Subjudul Bahasa Melayu</a> | <a href=\"/captcha/redirect-|en|download|vrf-108d030f|sub|3175400/setlang-no\" title=\"Norske undertekster - opensubtitles.org\">Norske undertekster</a> | <a href=\"/captcha/redirect-|en|download|vrf-108d030f|sub|3175400/setlang-oc\" title=\"Sostítols en occitan - opensubtitles.org\">Sostítols en occitan</a> | <a href=\"/captcha/redirect-|en|download|vrf-108d030f|sub|3175400/setlang-pl\" title=\"Polskie napisy - opensubtitles.org\">Polskie napisy</a> | <a href=\"/captcha/redirect-|en|download|vrf-108d030f|sub|3175400/setlang-pt\" title=\"legendas em Portuguęs - opensubtitles.org\">legendas em Portuguęs</a> | <a href=\"/captcha/redirect-|en|download|vrf-108d030f|sub|3175400/setlang-pb\" title=\"legendas em Português Brasileiro - opensubtitles.org\">legendas em Português Brasileiro</a> | <a href=\"/captcha/redirect-|en|download|vrf-108d030f|sub|3175400/setlang-ro\" title=\"Romana subtitrari - opensubtitles.org\">Romana subtitrari</a> | <a href=\"/captcha/redirect-|en|download|vrf-108d030f|sub|3175400/setlang-ru\" title=\"Русские субтитры - opensubtitles.org\">Русские субтитры</a> | <a href=\"/captcha/redirect-|en|download|vrf-108d030f|sub|3175400/setlang-si\" title=\"සින්හල උපසිරසි - opensubtitles.org\">සින්හල උපසිරසි</a> | <a href=\"/captcha/redirect-|en|download|vrf-108d030f|sub|3175400/setlang-sq\" title=\"Titra shqip - opensubtitles.org\">Titra shqip</a> | <a href=\"/captcha/redirect-|en|download|vrf-108d030f|sub|3175400/setlang-sr\" title=\"Srpski prevodi - opensubtitles.org\">Srpski prevodi</a> | <a href=\"/captcha/redirect-|en|download|vrf-108d030f|sub|3175400/setlang-sk\" title=\"Slovenské titulky - opensubtitles.org\">Slovenské titulky</a> | <a href=\"/captcha/redirect-|en|download|vrf-108d030f|sub|3175400/setlang-sv\" title=\"Svenska undertexter - opensubtitles.org\">Svenska undertexter</a> | <a href=\"/captcha/redirect-|en|download|vrf-108d030f|sub|3175400/setlang-th\" title=\"คำบรรยายไทย - opensubtitles.org\">คำบรรยายไทย</a> | <a href=\"/captcha/redirect-|en|download|vrf-108d030f|sub|3175400/setlang-tr\" title=\"Türkçe altyazı - opensubtitles.org\">Türkçe altyazı</a> | <a href=\"/captcha/redirect-|en|download|vrf-108d030f|sub|3175400/setlang-tl\" title=\"Tagalog subtitles - opensubtitles.org\">Tagalog subtitles</a> | <a href=\"/captcha/redirect-|en|download|vrf-108d030f|sub|3175400/setlang-uk\" title=\"Українські субтитри - opensubtitles.org\">Українські субтитри</a> | <a href=\"/captcha/redirect-|en|download|vrf-108d030f|sub|3175400/setlang-vi\" title=\"Phụ đề tiếng Việt - opensubtitles.org\">Phụ đề tiếng Việt</a> | <a href=\"/captcha/redirect-|en|download|vrf-108d030f|sub|3175400/setlang-zh\" title=\"中文字幕 - opensubtitles.org\">中文字幕</a></div><div id=\"footerlinks\">[\n",
      "<a href=\"http://www.cesko-katalog.cz\" target=\"_blank\">Cesko Katalog</a> | <a href=\"http://www.gomlab.com\" target=\"_blank\">GOM Player</a> | <a href=\"http://www.hockeyarena.net\" target=\"_blank\" title=\"Online Manager - Hockey Arena\">Hockey Arena</a> |\n",
      "<a href=\"https://www.cinematerial.com/\" target=\"_blank\" title=\"Digital Movie posters\">Movie Posters</a>\n",
      "]</div><div id=\"hidden\"><form action=\"/\" method=\"post\" id=\"hiddenform\"><p></p></form></div><p>\n",
      "© 2006-2017 opensubtitles.org</p></div></div><div id=\"container\"></div><div id=\"light\" class=\"lightbox_content\"><div class=\"lightbox_header\"><a href=\"javascript:void(0)\" class=\"disable_ad\" onclick=\"HideModal();\"><img style=\"padding-left:4px; padding-top:4px;\" src=\"//static.opensubtitles.org/gfx/css/close.gif\"/></a></div><div id=\"login_msg\" class=\"msg hint\">If you forgot your password, click on <b>forgotten password</b></div><div class=\"loginn\" style=\"text-align:center;margin-top:5px;\">Log-In</div><div class=\"right_login\" style=\"margin-top:5%;\"><form method=\"post\" id=\"loginform\" name=\"loginform\" action=\"/en/login/redirect-|en|captcha|redirect-|en|download|vrf-108d030f|sub|3175400\"><input type=\"hidden\" name=\"a\" value=\"login\"/><input type=\"hidden\" name=\"redirect\" value=\"\"/><table><tr><td>Username:</td><td colspan=\"2\"><input type=\"text\" name=\"user\" class=\"login\" maxlength=\"32\" value=\"\"/></td></tr><tr><td>Password:</td><td><input type=\"password\" name=\"password\" class=\"login\" maxlength=\"32\" autocomplete=\"off\"/></td></tr><tr><td>remember me</td><td colspan=\"2\"><input type=\"checkbox\" name=\"remember\"/></td></tr><tr><td colspan=\"3\"><input type=\"submit\" class=\"searchSubmit disable_ad\" value=\"Login\"/>\n",
      "  \n",
      "<a class=\"disable_ad\" href=\"/en/login/redirect-|en|captcha|redirect-|en|download|vrf-108d030f|sub|3175400/a-fp\" title=\"Forgotten password\">Forgotten password</a>\n",
      "|\n",
      "<a class=\"disable_ad\" href=\"/en/newuser\">Register</a></td></tr></table></form></div></div><div id=\"js_extra\"></div><div id=\"fade\" class=\"lightbox_overlay\"> </div><script type=\"text/javascript\"><!--\n",
      "\t\t\t\t\twindow.onerror = new Function('Message' ,'sURL' ,'sLine' , 'return true;')\n",
      "\t\t\t\t--></script><script type=\"text/javascript\"></script><script type=\"text/javascript\" src=\"//static.opensubtitles.org/libs/js/ad_slideout.js?1\"></script><script>\n",
      "\t\t  (function(i,s,o,g,r,a,m){i['GoogleAnalyticsObject']=r;i[r]=i[r]||function(){\n",
      "\t\t  (i[r].q=i[r].q||[]).push(arguments)},i[r].l=1*new Date();a=s.createElement(o),\n",
      "\t\t  m=s.getElementsByTagName(o)[0];a.async=1;a.src=g;m.parentNode.insertBefore(a,m)\n",
      "\t\t  })(window,document,'script','//www.google-analytics.com/analytics.js','ga');\n",
      "                     \n",
      "\n",
      "\t\t  ga('create', 'UA-436756-6', 'auto');\n",
      "\t\t  ga('send', 'pageview');\n",
      "\n",
      "\t\t</script><div style=\"display:none\"><a href=\"http://www.toplist.cz/\"><img src=\"https://toplist.cz/dot.asp?id=216254\" style=\"border:none\" alt=\"\" width=\"1\" height=\"1\"/></a></div><a rel=\"nofollow\" href=\"/libs/temp/clickheretobebanned.php\"> </a>  \n",
      "<script type='text/javascript'>\n",
      "\t\t\tvar adParams = {p: '74992838', preventBubble: '', serverdomain: 'adsrvmedia' , secure:true, numOfTimes: '1',duration: '12',period: 'hour', openNewTab: true  };\n",
      "\t\t\t</script>\n",
      "<script type='text/javascript' src='https://adsrvmedia.adk2.co/adsrvmedia/tags/xpopup/xpopup.js?ap=1303'></script><script type=\"text/javascript\" src=\"/en/lX+z3g4yBAUt6b6s4TJH2p18ZNFdgVfjJf253X9/dT+wh2R+q9J1qw7EK0laO/il.js\"></script><script type=\"text/javascript\" src=\"/en/to+6PYOucfoZSl/brT0tM9L8rJje0DyWXAsMcE3ZoTtn88FC3IC0w9jTARLSWM7o1sxTwqdICXhhkQ74/EyonrfC3rpNnltz6jaPa1zm0Jg.js\"></script><script type=\"application/ld+json\">\n",
      "{\n",
      "  \"@context\": \"http://schema.org\",\n",
      "  \"@type\": \"WebSite\",\n",
      "  \"url\": \"http://www.opensubtitles.org/\",\n",
      "  \"potentialAction\": {\n",
      "    \"@type\": \"SearchAction\",\n",
      "    \"target\": \"http://www.opensubtitles.org/search2/sublanguageid-all/moviename-{search_term_string}\",\n",
      "    \"query-input\": \"required name=search_term_string\"\n",
      "  }\n",
      "}\n",
      "</script><div class=\"modalIndicator\" style=\"display:none\"></div></body></html> \n"
     ]
    },
    {
     "ename": "BadZipfile",
     "evalue": "File is not a zip file",
     "output_type": "error",
     "traceback": [
      "\u001b[0;31m---------------------------------------------------------------------------\u001b[0m",
      "\u001b[0;31mBadZipfile\u001b[0m                                Traceback (most recent call last)",
      "\u001b[0;32m<ipython-input-111-2da3b5f39b69>\u001b[0m in \u001b[0;36m<module>\u001b[0;34m()\u001b[0m\n\u001b[1;32m      6\u001b[0m \u001b[0mr\u001b[0m \u001b[0;34m=\u001b[0m \u001b[0mrequests\u001b[0m\u001b[0;34m.\u001b[0m\u001b[0mget\u001b[0m\u001b[0;34m(\u001b[0m\u001b[0mzip_file_url\u001b[0m\u001b[0;34m,\u001b[0m \u001b[0mstream\u001b[0m\u001b[0;34m=\u001b[0m\u001b[0mTrue\u001b[0m\u001b[0;34m,\u001b[0m \u001b[0mallow_redirects\u001b[0m\u001b[0;34m=\u001b[0m\u001b[0mTrue\u001b[0m\u001b[0;34m)\u001b[0m\u001b[0;34m\u001b[0m\u001b[0m\n\u001b[1;32m      7\u001b[0m \u001b[0;32mprint\u001b[0m\u001b[0;34m(\u001b[0m\u001b[0mr\u001b[0m\u001b[0;34m.\u001b[0m\u001b[0mcontent\u001b[0m\u001b[0;34m)\u001b[0m\u001b[0;34m\u001b[0m\u001b[0m\n\u001b[0;32m----> 8\u001b[0;31m \u001b[0mz\u001b[0m \u001b[0;34m=\u001b[0m \u001b[0mzipfile\u001b[0m\u001b[0;34m.\u001b[0m\u001b[0mZipFile\u001b[0m\u001b[0;34m(\u001b[0m\u001b[0mStringIO\u001b[0m\u001b[0;34m.\u001b[0m\u001b[0mStringIO\u001b[0m\u001b[0;34m(\u001b[0m\u001b[0mr\u001b[0m\u001b[0;34m.\u001b[0m\u001b[0mcontent\u001b[0m\u001b[0;34m)\u001b[0m\u001b[0;34m)\u001b[0m\u001b[0;34m\u001b[0m\u001b[0m\n\u001b[0m\u001b[1;32m      9\u001b[0m \u001b[0mz\u001b[0m\u001b[0;34m.\u001b[0m\u001b[0mextractall\u001b[0m\u001b[0;34m(\u001b[0m\u001b[0;34m)\u001b[0m\u001b[0;34m\u001b[0m\u001b[0m\n",
      "\u001b[0;32m/Users/ashutoshchoudhary/Anaconda/anaconda/lib/python2.7/zipfile.pyc\u001b[0m in \u001b[0;36m__init__\u001b[0;34m(self, file, mode, compression, allowZip64)\u001b[0m\n\u001b[1;32m    768\u001b[0m         \u001b[0;32mtry\u001b[0m\u001b[0;34m:\u001b[0m\u001b[0;34m\u001b[0m\u001b[0m\n\u001b[1;32m    769\u001b[0m             \u001b[0;32mif\u001b[0m \u001b[0mkey\u001b[0m \u001b[0;34m==\u001b[0m \u001b[0;34m'r'\u001b[0m\u001b[0;34m:\u001b[0m\u001b[0;34m\u001b[0m\u001b[0m\n\u001b[0;32m--> 770\u001b[0;31m                 \u001b[0mself\u001b[0m\u001b[0;34m.\u001b[0m\u001b[0m_RealGetContents\u001b[0m\u001b[0;34m(\u001b[0m\u001b[0;34m)\u001b[0m\u001b[0;34m\u001b[0m\u001b[0m\n\u001b[0m\u001b[1;32m    771\u001b[0m             \u001b[0;32melif\u001b[0m \u001b[0mkey\u001b[0m \u001b[0;34m==\u001b[0m \u001b[0;34m'w'\u001b[0m\u001b[0;34m:\u001b[0m\u001b[0;34m\u001b[0m\u001b[0m\n\u001b[1;32m    772\u001b[0m                 \u001b[0;31m# set the modified flag so central directory gets written\u001b[0m\u001b[0;34m\u001b[0m\u001b[0;34m\u001b[0m\u001b[0m\n",
      "\u001b[0;32m/Users/ashutoshchoudhary/Anaconda/anaconda/lib/python2.7/zipfile.pyc\u001b[0m in \u001b[0;36m_RealGetContents\u001b[0;34m(self)\u001b[0m\n\u001b[1;32m    809\u001b[0m             \u001b[0;32mraise\u001b[0m \u001b[0mBadZipfile\u001b[0m\u001b[0;34m(\u001b[0m\u001b[0;34m\"File is not a zip file\"\u001b[0m\u001b[0;34m)\u001b[0m\u001b[0;34m\u001b[0m\u001b[0m\n\u001b[1;32m    810\u001b[0m         \u001b[0;32mif\u001b[0m \u001b[0;32mnot\u001b[0m \u001b[0mendrec\u001b[0m\u001b[0;34m:\u001b[0m\u001b[0;34m\u001b[0m\u001b[0m\n\u001b[0;32m--> 811\u001b[0;31m             \u001b[0;32mraise\u001b[0m \u001b[0mBadZipfile\u001b[0m\u001b[0;34m,\u001b[0m \u001b[0;34m\"File is not a zip file\"\u001b[0m\u001b[0;34m\u001b[0m\u001b[0m\n\u001b[0m\u001b[1;32m    812\u001b[0m         \u001b[0;32mif\u001b[0m \u001b[0mself\u001b[0m\u001b[0;34m.\u001b[0m\u001b[0mdebug\u001b[0m \u001b[0;34m>\u001b[0m \u001b[0;36m1\u001b[0m\u001b[0;34m:\u001b[0m\u001b[0;34m\u001b[0m\u001b[0m\n\u001b[1;32m    813\u001b[0m             \u001b[0;32mprint\u001b[0m \u001b[0mendrec\u001b[0m\u001b[0;34m\u001b[0m\u001b[0m\n",
      "\u001b[0;31mBadZipfile\u001b[0m: File is not a zip file"
     ]
    }
   ],
   "source": [
    "movie_char_start = 'a'\n",
    "zip_download_dir = os.path.join(osdb_raw_data, movie_char_start)\n",
    "if not os.path.exists(zip_download_dir):\n",
    "    os.makedirs(zip_download_dir)\n",
    "zip_file_url = 'https://www.opensubtitles.org/en/download/vrf-108d030f/sub/3175400'#'https://www.opensubtitles.org/en/subtitleserve/sub/3175400'\n",
    "r = requests.get(zip_file_url, stream=True, allow_redirects=True)\n",
    "print(r.content)\n",
    "z = zipfile.ZipFile(StringIO.StringIO(r.content))\n",
    "z.extractall()"
   ]
  },
  {
   "cell_type": "code",
   "execution_count": null,
   "metadata": {
    "collapsed": true
   },
   "outputs": [],
   "source": []
  },
  {
   "cell_type": "code",
   "execution_count": null,
   "metadata": {
    "collapsed": true
   },
   "outputs": [],
   "source": []
  },
  {
   "cell_type": "code",
   "execution_count": null,
   "metadata": {
    "collapsed": true
   },
   "outputs": [],
   "source": []
  }
 ],
 "metadata": {
  "anaconda-cloud": {},
  "kernelspec": {
   "display_name": "Python [default]",
   "language": "python",
   "name": "python2"
  },
  "language_info": {
   "codemirror_mode": {
    "name": "ipython",
    "version": 2
   },
   "file_extension": ".py",
   "mimetype": "text/x-python",
   "name": "python",
   "nbconvert_exporter": "python",
   "pygments_lexer": "ipython2",
   "version": "2.7.12"
  }
 },
 "nbformat": 4,
 "nbformat_minor": 1
}
